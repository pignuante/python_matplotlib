{
 "cells": [
  {
   "cell_type": "code",
   "execution_count": 1,
   "metadata": {
    "collapsed": true
   },
   "outputs": [],
   "source": [
    "import matplotlib as mpl"
   ]
  },
  {
   "cell_type": "code",
   "execution_count": 2,
   "metadata": {},
   "outputs": [
    {
     "data": {
      "text/plain": [
       "['MutableMapping',\n",
       " 'RcParams',\n",
       " 'URL_REGEX',\n",
       " 'Verbose',\n",
       " '_DATA_DOC_APPENDIX',\n",
       " '__bibtex__',\n",
       " '__builtins__',\n",
       " '__cached__',\n",
       " '__doc__',\n",
       " '__file__',\n",
       " '__loader__',\n",
       " '__name__',\n",
       " '__package__',\n",
       " '__path__',\n",
       " '__spec__',\n",
       " '__version__',\n",
       " '__version__numpy__',\n",
       " '_all_deprecated',\n",
       " '_backports',\n",
       " '_color_data',\n",
       " '_create_tmp_config_dir',\n",
       " '_decode_filesystem_path',\n",
       " '_deprecated_ignore_map',\n",
       " '_deprecated_map',\n",
       " '_deprecated_set',\n",
       " '_error_details_fmt',\n",
       " '_get_cachedir',\n",
       " '_get_config_or_cache_dir',\n",
       " '_get_configdir',\n",
       " '_get_data_path',\n",
       " '_get_data_path_cached',\n",
       " '_get_home',\n",
       " '_get_xdg_cache_dir',\n",
       " '_get_xdg_config_dir',\n",
       " '_init_tests',\n",
       " '_is_writable_dir',\n",
       " '_obsolete_set',\n",
       " '_open_file_or_url',\n",
       " '_preprocess_data',\n",
       " '_python27',\n",
       " '_python34',\n",
       " '_rc_params_in_file',\n",
       " '_replacer',\n",
       " '_url_lines',\n",
       " '_use_error_msg',\n",
       " '_version',\n",
       " 'absolute_import',\n",
       " 'cbook',\n",
       " 'checkdep_dvipng',\n",
       " 'checkdep_ghostscript',\n",
       " 'checkdep_inkscape',\n",
       " 'checkdep_pdftops',\n",
       " 'checkdep_ps_distiller',\n",
       " 'checkdep_tex',\n",
       " 'checkdep_usetex',\n",
       " 'checkdep_xmllint',\n",
       " 'colors',\n",
       " 'compare_versions',\n",
       " 'compat',\n",
       " 'contextlib',\n",
       " 'cycler',\n",
       " 'dateutil',\n",
       " 'dedent',\n",
       " 'defaultParams',\n",
       " 'default_test_modules',\n",
       " 'distutils',\n",
       " 'division',\n",
       " 'fontconfig_pattern',\n",
       " 'functools',\n",
       " 'get_backend',\n",
       " 'get_cachedir',\n",
       " 'get_configdir',\n",
       " 'get_data_path',\n",
       " 'get_home',\n",
       " 'get_label',\n",
       " 'get_py2exe_datafiles',\n",
       " 'inspect',\n",
       " 'interactive',\n",
       " 'io',\n",
       " 'is_interactive',\n",
       " 'is_url',\n",
       " 'itertools',\n",
       " 'locale',\n",
       " 'matplotlib_fname',\n",
       " 'mplDeprecation',\n",
       " 'numpy',\n",
       " 'os',\n",
       " 'print_function',\n",
       " 'pyparsing',\n",
       " 'rc',\n",
       " 'rcParams',\n",
       " 'rcParamsDefault',\n",
       " 'rcParamsOrig',\n",
       " 'rc_context',\n",
       " 'rc_file',\n",
       " 'rc_file_defaults',\n",
       " 'rc_params',\n",
       " 'rc_params_from_file',\n",
       " 'rcdefaults',\n",
       " 'rcsetup',\n",
       " 're',\n",
       " 'reload',\n",
       " 'sanitize_sequence',\n",
       " 'six',\n",
       " 'subprocess',\n",
       " 'sys',\n",
       " 'tempfile',\n",
       " 'test',\n",
       " 'tk_window_focus',\n",
       " 'unicode_literals',\n",
       " 'urlopen',\n",
       " 'use',\n",
       " 'validate_backend',\n",
       " 'verbose',\n",
       " 'warnings']"
      ]
     },
     "execution_count": 2,
     "metadata": {},
     "output_type": "execute_result"
    }
   ],
   "source": [
    "dir(mpl)"
   ]
  },
  {
   "cell_type": "code",
   "execution_count": 5,
   "metadata": {
    "collapsed": true
   },
   "outputs": [],
   "source": [
    "import matplotlib.pyplot as plt"
   ]
  },
  {
   "cell_type": "code",
   "execution_count": 6,
   "metadata": {},
   "outputs": [
    {
     "data": {
      "text/plain": [
       "['Annotation',\n",
       " 'Arrow',\n",
       " 'Artist',\n",
       " 'AutoLocator',\n",
       " 'Axes',\n",
       " 'Button',\n",
       " 'Circle',\n",
       " 'Figure',\n",
       " 'FigureCanvasBase',\n",
       " 'FixedFormatter',\n",
       " 'FixedLocator',\n",
       " 'FormatStrFormatter',\n",
       " 'Formatter',\n",
       " 'FuncFormatter',\n",
       " 'GridSpec',\n",
       " 'IndexLocator',\n",
       " 'Line2D',\n",
       " 'LinearLocator',\n",
       " 'Locator',\n",
       " 'LogFormatter',\n",
       " 'LogFormatterExponent',\n",
       " 'LogFormatterMathtext',\n",
       " 'LogLocator',\n",
       " 'MaxNLocator',\n",
       " 'MultipleLocator',\n",
       " 'Normalize',\n",
       " 'NullFormatter',\n",
       " 'NullLocator',\n",
       " 'PolarAxes',\n",
       " 'Polygon',\n",
       " 'Rectangle',\n",
       " 'ScalarFormatter',\n",
       " 'Slider',\n",
       " 'Subplot',\n",
       " 'SubplotTool',\n",
       " 'Text',\n",
       " 'TickHelper',\n",
       " 'Widget',\n",
       " '_INSTALL_FIG_OBSERVER',\n",
       " '_IP_REGISTERED',\n",
       " '__builtins__',\n",
       " '__cached__',\n",
       " '__doc__',\n",
       " '__file__',\n",
       " '__loader__',\n",
       " '__name__',\n",
       " '__package__',\n",
       " '__spec__',\n",
       " '_auto_draw_if_interactive',\n",
       " '_autogen_docstring',\n",
       " '_backend_mod',\n",
       " '_backend_selection',\n",
       " '_hold_msg',\n",
       " '_imread',\n",
       " '_imsave',\n",
       " '_interactive_bk',\n",
       " '_pylab_helpers',\n",
       " '_setp',\n",
       " '_setup_pyplot_info_docstrings',\n",
       " '_show',\n",
       " '_string_to_bool',\n",
       " 'absolute_import',\n",
       " 'acorr',\n",
       " 'angle_spectrum',\n",
       " 'annotate',\n",
       " 'arrow',\n",
       " 'autoscale',\n",
       " 'autumn',\n",
       " 'axes',\n",
       " 'axhline',\n",
       " 'axhspan',\n",
       " 'axis',\n",
       " 'axvline',\n",
       " 'axvspan',\n",
       " 'bar',\n",
       " 'barbs',\n",
       " 'barh',\n",
       " 'bone',\n",
       " 'box',\n",
       " 'boxplot',\n",
       " 'broken_barh',\n",
       " 'cla',\n",
       " 'clabel',\n",
       " 'clf',\n",
       " 'clim',\n",
       " 'close',\n",
       " 'cm',\n",
       " 'cohere',\n",
       " 'colorbar',\n",
       " 'colormaps',\n",
       " 'colors',\n",
       " 'connect',\n",
       " 'contour',\n",
       " 'contourf',\n",
       " 'cool',\n",
       " 'copper',\n",
       " 'csd',\n",
       " 'cycler',\n",
       " 'dedent',\n",
       " 'delaxes',\n",
       " 'deprecated',\n",
       " 'disconnect',\n",
       " 'division',\n",
       " 'docstring',\n",
       " 'draw',\n",
       " 'draw_all',\n",
       " 'draw_if_interactive',\n",
       " 'errorbar',\n",
       " 'eventplot',\n",
       " 'figaspect',\n",
       " 'figimage',\n",
       " 'figlegend',\n",
       " 'fignum_exists',\n",
       " 'figtext',\n",
       " 'figure',\n",
       " 'fill',\n",
       " 'fill_between',\n",
       " 'fill_betweenx',\n",
       " 'findobj',\n",
       " 'flag',\n",
       " 'gca',\n",
       " 'gcf',\n",
       " 'gci',\n",
       " 'get',\n",
       " 'get_backend',\n",
       " 'get_cmap',\n",
       " 'get_current_fig_manager',\n",
       " 'get_figlabels',\n",
       " 'get_fignums',\n",
       " 'get_plot_commands',\n",
       " 'get_scale_docs',\n",
       " 'get_scale_names',\n",
       " 'getp',\n",
       " 'ginput',\n",
       " 'gray',\n",
       " 'grid',\n",
       " 'hexbin',\n",
       " 'hist',\n",
       " 'hist2d',\n",
       " 'hlines',\n",
       " 'hold',\n",
       " 'hot',\n",
       " 'hsv',\n",
       " 'imread',\n",
       " 'imsave',\n",
       " 'imshow',\n",
       " 'inferno',\n",
       " 'install_repl_displayhook',\n",
       " 'interactive',\n",
       " 'ioff',\n",
       " 'ion',\n",
       " 'is_numlike',\n",
       " 'ishold',\n",
       " 'isinteractive',\n",
       " 'jet',\n",
       " 'legend',\n",
       " 'locator_params',\n",
       " 'loglog',\n",
       " 'magma',\n",
       " 'magnitude_spectrum',\n",
       " 'margins',\n",
       " 'matplotlib',\n",
       " 'matshow',\n",
       " 'minorticks_off',\n",
       " 'minorticks_on',\n",
       " 'mlab',\n",
       " 'new_figure_manager',\n",
       " 'nipy_spectral',\n",
       " 'np',\n",
       " 'over',\n",
       " 'pause',\n",
       " 'pcolor',\n",
       " 'pcolormesh',\n",
       " 'phase_spectrum',\n",
       " 'pie',\n",
       " 'pink',\n",
       " 'plasma',\n",
       " 'plot',\n",
       " 'plot_date',\n",
       " 'plotfile',\n",
       " 'plotting',\n",
       " 'polar',\n",
       " 'print_function',\n",
       " 'prism',\n",
       " 'psd',\n",
       " 'pylab_setup',\n",
       " 'quiver',\n",
       " 'quiverkey',\n",
       " 'rc',\n",
       " 'rcParams',\n",
       " 'rcParamsDefault',\n",
       " 'rc_context',\n",
       " 'rcdefaults',\n",
       " 'register_cmap',\n",
       " 'rgrids',\n",
       " 'savefig',\n",
       " 'sca',\n",
       " 'scatter',\n",
       " 'sci',\n",
       " 'semilogx',\n",
       " 'semilogy',\n",
       " 'set_cmap',\n",
       " 'setp',\n",
       " 'show',\n",
       " 'silent_list',\n",
       " 'six',\n",
       " 'specgram',\n",
       " 'spectral',\n",
       " 'spring',\n",
       " 'spy',\n",
       " 'stackplot',\n",
       " 'stem',\n",
       " 'step',\n",
       " 'streamplot',\n",
       " 'style',\n",
       " 'subplot',\n",
       " 'subplot2grid',\n",
       " 'subplot_tool',\n",
       " 'subplots',\n",
       " 'subplots_adjust',\n",
       " 'summer',\n",
       " 'suptitle',\n",
       " 'switch_backend',\n",
       " 'sys',\n",
       " 'table',\n",
       " 'text',\n",
       " 'thetagrids',\n",
       " 'tick_params',\n",
       " 'ticklabel_format',\n",
       " 'tight_layout',\n",
       " 'title',\n",
       " 'tricontour',\n",
       " 'tricontourf',\n",
       " 'tripcolor',\n",
       " 'triplot',\n",
       " 'twinx',\n",
       " 'twiny',\n",
       " 'types',\n",
       " 'unicode_literals',\n",
       " 'uninstall_repl_displayhook',\n",
       " 'violinplot',\n",
       " 'viridis',\n",
       " 'vlines',\n",
       " 'waitforbuttonpress',\n",
       " 'warnings',\n",
       " 'winter',\n",
       " 'xcorr',\n",
       " 'xkcd',\n",
       " 'xlabel',\n",
       " 'xlim',\n",
       " 'xscale',\n",
       " 'xticks',\n",
       " 'ylabel',\n",
       " 'ylim',\n",
       " 'yscale',\n",
       " 'yticks']"
      ]
     },
     "execution_count": 6,
     "metadata": {},
     "output_type": "execute_result"
    }
   ],
   "source": [
    "dir(plt)"
   ]
  },
  {
   "cell_type": "markdown",
   "metadata": {},
   "source": [
    "## 실제 그래프의 최상위  클래스 알아보기"
   ]
  },
  {
   "cell_type": "code",
   "execution_count": 12,
   "metadata": {},
   "outputs": [
    {
     "data": {
      "text/plain": [
       "matplotlib.figure.Figure"
      ]
     },
     "execution_count": 12,
     "metadata": {},
     "output_type": "execute_result"
    }
   ],
   "source": [
    "plt.Figure"
   ]
  },
  {
   "cell_type": "code",
   "execution_count": 13,
   "metadata": {},
   "outputs": [
    {
     "data": {
      "text/plain": [
       "(matplotlib.artist.Artist,)"
      ]
     },
     "execution_count": 13,
     "metadata": {},
     "output_type": "execute_result"
    }
   ],
   "source": [
    "plt.Figure.__bases__"
   ]
  },
  {
   "cell_type": "markdown",
   "metadata": {},
   "source": [
    "### figure 를 생성하기"
   ]
  },
  {
   "cell_type": "code",
   "execution_count": 14,
   "metadata": {
    "collapsed": true
   },
   "outputs": [],
   "source": [
    "fig = plt.figure(0)"
   ]
  },
  {
   "cell_type": "code",
   "execution_count": 15,
   "metadata": {},
   "outputs": [
    {
     "data": {
      "text/plain": [
       "<matplotlib.figure.Figure at 0x105eee898>"
      ]
     },
     "execution_count": 15,
     "metadata": {},
     "output_type": "execute_result"
    }
   ],
   "source": [
    "fig"
   ]
  },
  {
   "cell_type": "code",
   "execution_count": 16,
   "metadata": {},
   "outputs": [
    {
     "data": {
      "text/plain": [
       "0"
      ]
     },
     "execution_count": 16,
     "metadata": {},
     "output_type": "execute_result"
    }
   ],
   "source": [
    "fig.number"
   ]
  },
  {
   "cell_type": "code",
   "execution_count": 17,
   "metadata": {
    "collapsed": true
   },
   "outputs": [],
   "source": [
    "fig1 = plt.figure(1)"
   ]
  },
  {
   "cell_type": "code",
   "execution_count": 19,
   "metadata": {},
   "outputs": [
    {
     "data": {
      "text/plain": [
       "1"
      ]
     },
     "execution_count": 19,
     "metadata": {},
     "output_type": "execute_result"
    }
   ],
   "source": [
    "fig1.number"
   ]
  },
  {
   "cell_type": "markdown",
   "metadata": {},
   "source": [
    "## 실제 그래프가 들어가는 클래스"
   ]
  },
  {
   "cell_type": "code",
   "execution_count": 7,
   "metadata": {},
   "outputs": [
    {
     "data": {
      "text/plain": [
       "matplotlib.axes._axes.Axes"
      ]
     },
     "execution_count": 7,
     "metadata": {},
     "output_type": "execute_result"
    }
   ],
   "source": [
    "plt.Axes"
   ]
  },
  {
   "cell_type": "code",
   "execution_count": 8,
   "metadata": {},
   "outputs": [
    {
     "data": {
      "text/plain": [
       "(matplotlib.axes._base._AxesBase,)"
      ]
     },
     "execution_count": 8,
     "metadata": {},
     "output_type": "execute_result"
    }
   ],
   "source": [
    "plt.Axes.__bases__"
   ]
  },
  {
   "cell_type": "markdown",
   "metadata": {},
   "source": [
    "### figure 객체를 생성하면 실제 Rectangle 객체가 만들어져 있다"
   ]
  },
  {
   "cell_type": "code",
   "execution_count": 33,
   "metadata": {},
   "outputs": [],
   "source": [
    "fig3 = plt.figure(3)"
   ]
  },
  {
   "cell_type": "code",
   "execution_count": 36,
   "metadata": {},
   "outputs": [
    {
     "data": {
      "text/plain": [
       "[<matplotlib.patches.Rectangle at 0x106408f60>]"
      ]
     },
     "execution_count": 36,
     "metadata": {},
     "output_type": "execute_result"
    }
   ],
   "source": [
    "fig3.get_children()"
   ]
  },
  {
   "cell_type": "markdown",
   "metadata": {},
   "source": [
    "### Axes를 하나 생성"
   ]
  },
  {
   "cell_type": "code",
   "execution_count": 38,
   "metadata": {},
   "outputs": [],
   "source": [
    "ax = fig3.add_axes([0,0,1,1])"
   ]
  },
  {
   "cell_type": "code",
   "execution_count": 39,
   "metadata": {},
   "outputs": [
    {
     "data": {
      "text/plain": [
       "[<matplotlib.patches.Rectangle at 0x106408f60>,\n",
       " <matplotlib.axes._axes.Axes at 0x1063ec630>]"
      ]
     },
     "execution_count": 39,
     "metadata": {},
     "output_type": "execute_result"
    }
   ],
   "source": [
    "fig3.get_children()"
   ]
  },
  {
   "cell_type": "markdown",
   "metadata": {},
   "source": [
    "## subplot으로 Axes 객체 생성하기"
   ]
  },
  {
   "cell_type": "code",
   "execution_count": 9,
   "metadata": {},
   "outputs": [
    {
     "data": {
      "text/plain": [
       "matplotlib.axes._subplots.AxesSubplot"
      ]
     },
     "execution_count": 9,
     "metadata": {},
     "output_type": "execute_result"
    }
   ],
   "source": [
    "plt.Subplot"
   ]
  },
  {
   "cell_type": "code",
   "execution_count": 11,
   "metadata": {},
   "outputs": [
    {
     "data": {
      "text/plain": [
       "(matplotlib.axes._subplots.SubplotBase, matplotlib.axes._axes.Axes)"
      ]
     },
     "execution_count": 11,
     "metadata": {},
     "output_type": "execute_result"
    }
   ],
   "source": [
    "plt.Subplot.__bases__"
   ]
  },
  {
   "cell_type": "code",
   "execution_count": 41,
   "metadata": {
    "collapsed": true
   },
   "outputs": [],
   "source": [
    "fig4 = plt.figure(4)"
   ]
  },
  {
   "cell_type": "code",
   "execution_count": 42,
   "metadata": {},
   "outputs": [],
   "source": [
    "ax = fig4.add_subplot(2,2,1)"
   ]
  },
  {
   "cell_type": "code",
   "execution_count": 43,
   "metadata": {},
   "outputs": [
    {
     "data": {
      "text/plain": [
       "<matplotlib.axes._subplots.AxesSubplot at 0x1064279e8>"
      ]
     },
     "execution_count": 43,
     "metadata": {},
     "output_type": "execute_result"
    }
   ],
   "source": [
    "ax"
   ]
  },
  {
   "cell_type": "code",
   "execution_count": 44,
   "metadata": {},
   "outputs": [
    {
     "data": {
      "text/plain": [
       "[<matplotlib.patches.Rectangle at 0x106427470>,\n",
       " <matplotlib.axes._subplots.AxesSubplot at 0x1064279e8>]"
      ]
     },
     "execution_count": 44,
     "metadata": {},
     "output_type": "execute_result"
    }
   ],
   "source": [
    "fig4.get_children()"
   ]
  },
  {
   "cell_type": "markdown",
   "metadata": {},
   "source": [
    "## plt.subplot으로 axes를 추가할 경우는 암묵적으로 fiqure와 연결된다."
   ]
  },
  {
   "cell_type": "code",
   "execution_count": 52,
   "metadata": {},
   "outputs": [
    {
     "data": {
      "text/plain": [
       "<matplotlib.axes._subplots.AxesSubplot at 0x1066d9390>"
      ]
     },
     "execution_count": 52,
     "metadata": {},
     "output_type": "execute_result"
    }
   ],
   "source": [
    "fig6 = plt.figure(6)\n",
    "plt.subplot(221)"
   ]
  },
  {
   "cell_type": "code",
   "execution_count": 53,
   "metadata": {},
   "outputs": [
    {
     "data": {
      "text/plain": [
       "[<matplotlib.patches.Rectangle at 0x1067a2d68>,\n",
       " <matplotlib.axes._subplots.AxesSubplot at 0x1066d9390>]"
      ]
     },
     "execution_count": 53,
     "metadata": {},
     "output_type": "execute_result"
    }
   ],
   "source": [
    "fig6.get_children()"
   ]
  },
  {
   "cell_type": "code",
   "execution_count": 45,
   "metadata": {},
   "outputs": [
    {
     "data": {
      "text/plain": [
       "<function matplotlib.pyplot.subplot>"
      ]
     },
     "execution_count": 45,
     "metadata": {},
     "output_type": "execute_result"
    }
   ],
   "source": [
    "plt.subplot"
   ]
  },
  {
   "cell_type": "code",
   "execution_count": 46,
   "metadata": {},
   "outputs": [
    {
     "name": "stdout",
     "output_type": "stream",
     "text": [
      "Help on function subplot in module matplotlib.pyplot:\n",
      "\n",
      "subplot(*args, **kwargs)\n",
      "    Return a subplot axes positioned by the given grid definition.\n",
      "    \n",
      "    Typical call signature::\n",
      "    \n",
      "      subplot(nrows, ncols, plot_number)\n",
      "    \n",
      "    Where *nrows* and *ncols* are used to notionally split the figure\n",
      "    into ``nrows * ncols`` sub-axes, and *plot_number* is used to identify\n",
      "    the particular subplot that this function is to create within the notional\n",
      "    grid. *plot_number* starts at 1, increments across rows first and has a\n",
      "    maximum of ``nrows * ncols``.\n",
      "    \n",
      "    In the case when *nrows*, *ncols* and *plot_number* are all less than 10,\n",
      "    a convenience exists, such that the a 3 digit number can be given instead,\n",
      "    where the hundreds represent *nrows*, the tens represent *ncols* and the\n",
      "    units represent *plot_number*. For instance::\n",
      "    \n",
      "      subplot(211)\n",
      "    \n",
      "    produces a subaxes in a figure which represents the top plot (i.e. the\n",
      "    first) in a 2 row by 1 column notional grid (no grid actually exists,\n",
      "    but conceptually this is how the returned subplot has been positioned).\n",
      "    \n",
      "    .. note::\n",
      "    \n",
      "       Creating a subplot will delete any pre-existing subplot that overlaps\n",
      "       with it beyond sharing a boundary::\n",
      "    \n",
      "          import matplotlib.pyplot as plt\n",
      "          # plot a line, implicitly creating a subplot(111)\n",
      "          plt.plot([1,2,3])\n",
      "          # now create a subplot which represents the top plot of a grid\n",
      "          # with 2 rows and 1 column. Since this subplot will overlap the\n",
      "          # first, the plot (and its axes) previously created, will be removed\n",
      "          plt.subplot(211)\n",
      "          plt.plot(range(12))\n",
      "          plt.subplot(212, facecolor='y') # creates 2nd subplot with yellow background\n",
      "    \n",
      "       If you do not want this behavior, use the\n",
      "       :meth:`~matplotlib.figure.Figure.add_subplot` method or the\n",
      "       :func:`~matplotlib.pyplot.axes` function instead.\n",
      "    \n",
      "    Keyword arguments:\n",
      "    \n",
      "      *facecolor*:\n",
      "        The background color of the subplot, which can be any valid\n",
      "        color specifier.  See :mod:`matplotlib.colors` for more\n",
      "        information.\n",
      "    \n",
      "      *polar*:\n",
      "        A boolean flag indicating whether the subplot plot should be\n",
      "        a polar projection.  Defaults to *False*.\n",
      "    \n",
      "      *projection*:\n",
      "        A string giving the name of a custom projection to be used\n",
      "        for the subplot. This projection must have been previously\n",
      "        registered. See :mod:`matplotlib.projections`.\n",
      "    \n",
      "    .. seealso::\n",
      "    \n",
      "        :func:`~matplotlib.pyplot.axes`\n",
      "            For additional information on :func:`axes` and\n",
      "            :func:`subplot` keyword arguments.\n",
      "    \n",
      "        :file:`gallery/pie_and_polar_charts/polar_scatter.py`\n",
      "            For an example\n",
      "    \n",
      "    **Example:**\n",
      "    \n",
      "    .. plot:: gallery/subplots_axes_and_figures/subplot.py\n",
      "\n"
     ]
    }
   ],
   "source": [
    "help(plt.subplot)"
   ]
  },
  {
   "cell_type": "code",
   "execution_count": null,
   "metadata": {
    "collapsed": true
   },
   "outputs": [],
   "source": []
  }
 ],
 "metadata": {
  "kernelspec": {
   "display_name": "Python 3",
   "language": "python",
   "name": "python3"
  },
  "language_info": {
   "codemirror_mode": {
    "name": "ipython",
    "version": 3
   },
   "file_extension": ".py",
   "mimetype": "text/x-python",
   "name": "python",
   "nbconvert_exporter": "python",
   "pygments_lexer": "ipython3",
   "version": "3.6.1"
  }
 },
 "nbformat": 4,
 "nbformat_minor": 2
}
