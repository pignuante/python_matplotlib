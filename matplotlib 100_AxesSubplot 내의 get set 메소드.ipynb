{
 "cells": [
  {
   "cell_type": "code",
   "execution_count": 1,
   "metadata": {
    "collapsed": true
   },
   "outputs": [],
   "source": [
    "import matplotlib.pyplot as plt"
   ]
  },
  {
   "cell_type": "code",
   "execution_count": 2,
   "metadata": {
    "collapsed": true
   },
   "outputs": [],
   "source": [
    "import numpy as np"
   ]
  },
  {
   "cell_type": "code",
   "execution_count": 3,
   "metadata": {
    "collapsed": true
   },
   "outputs": [],
   "source": [
    "%matplotlib inline"
   ]
  },
  {
   "cell_type": "markdown",
   "metadata": {},
   "source": [
    "# get 메소드 알아보기"
   ]
  },
  {
   "cell_type": "code",
   "execution_count": null,
   "metadata": {
    "collapsed": true
   },
   "outputs": [],
   "source": [
    "x = np.arange(-2*np.pi, 2*np.pi, 0.1)"
   ]
  },
  {
   "cell_type": "code",
   "execution_count": 4,
   "metadata": {},
   "outputs": [
    {
     "data": {
      "text/plain": [
       "<matplotlib.figure.Figure at 0x10b63b240>"
      ]
     },
     "metadata": {},
     "output_type": "display_data"
    }
   ],
   "source": [
    "fig = plt.figure(num=1, figsize=(13, 13), dpi=80, facecolor='w', edgecolor='k')"
   ]
  },
  {
   "cell_type": "code",
   "execution_count": 5,
   "metadata": {
    "collapsed": true
   },
   "outputs": [],
   "source": [
    "ax = fig.add_subplot(111)"
   ]
  },
  {
   "cell_type": "code",
   "execution_count": 7,
   "metadata": {},
   "outputs": [
    {
     "name": "stdout",
     "output_type": "stream",
     "text": [
      "get_adjustable\n",
      "get_agg_filter\n",
      "get_alpha\n",
      "get_anchor\n",
      "get_animated\n",
      "get_aspect\n",
      "get_autoscale_on\n",
      "get_autoscalex_on\n",
      "get_autoscaley_on\n",
      "get_axes_locator\n",
      "get_axis_bgcolor\n",
      "get_axisbelow\n",
      "get_children\n",
      "get_clip_box\n",
      "get_clip_on\n",
      "get_clip_path\n",
      "get_contains\n",
      "get_cursor_data\n",
      "get_cursor_props\n",
      "get_data_ratio\n",
      "get_data_ratio_log\n",
      "get_default_bbox_extra_artists\n",
      "get_facecolor\n",
      "get_fc\n",
      "get_figure\n",
      "get_frame_on\n",
      "get_geometry\n",
      "get_gid\n",
      "get_images\n",
      "get_label\n",
      "get_legend\n",
      "get_legend_handles_labels\n",
      "get_lines\n",
      "get_navigate\n",
      "get_navigate_mode\n",
      "get_path_effects\n",
      "get_picker\n",
      "get_position\n",
      "get_rasterization_zorder\n",
      "get_rasterized\n",
      "get_renderer_cache\n",
      "get_shared_x_axes\n",
      "get_shared_y_axes\n",
      "get_sketch_params\n",
      "get_snap\n",
      "get_subplotspec\n",
      "get_tightbbox\n",
      "get_title\n",
      "get_transform\n",
      "get_transformed_clip_path_and_affine\n",
      "get_url\n",
      "get_visible\n",
      "get_window_extent\n",
      "get_xaxis\n",
      "get_xaxis_text1_transform\n",
      "get_xaxis_text2_transform\n",
      "get_xaxis_transform\n",
      "get_xbound\n",
      "get_xgridlines\n",
      "get_xlabel\n",
      "get_xlim\n",
      "get_xmajorticklabels\n",
      "get_xminorticklabels\n",
      "get_xscale\n",
      "get_xticklabels\n",
      "get_xticklines\n",
      "get_xticks\n",
      "get_yaxis\n",
      "get_yaxis_text1_transform\n",
      "get_yaxis_text2_transform\n",
      "get_yaxis_transform\n",
      "get_ybound\n",
      "get_ygridlines\n",
      "get_ylabel\n",
      "get_ylim\n",
      "get_ymajorticklabels\n",
      "get_yminorticklabels\n",
      "get_yscale\n",
      "get_yticklabels\n",
      "get_yticklines\n",
      "get_yticks\n",
      "get_zorder\n"
     ]
    }
   ],
   "source": [
    "for i in dir(ax) :\n",
    "    if i.startswith(\"get_\") :\n",
    "        print(i)"
   ]
  },
  {
   "cell_type": "code",
   "execution_count": 10,
   "metadata": {
    "collapsed": true
   },
   "outputs": [],
   "source": [
    "y = [2,4,6,8,10,12,14,16,18,20]\n",
    "y2 = [10,11,12,13,14,15,16,17,18,19]\n",
    "x = np.arange(10)"
   ]
  },
  {
   "cell_type": "code",
   "execution_count": 13,
   "metadata": {},
   "outputs": [
    {
     "data": {
      "image/png": "[encoded data removed]",
      "text/plain": [
       "<matplotlib.figure.Figure at 0x10b90b240>"
      ]
     },
     "metadata": {},
     "output_type": "display_data"
    }
   ],
   "source": [
    "fig = plt.figure()\n",
    "ax = plt.subplot(111)\n",
    "ax.plot(x, y, label='$y = numbers')\n",
    "ax.plot(x, y2, label='$y2 = other numbers')\n",
    "plt.title('Legend inside')\n",
    "plt.xlabel(\" arange \")\n",
    "plt.ylabel(\" list \")\n",
    "ax.legend(bbox_to_anchor=(1.04,0), loc='lower left',borderaxespad=0)\n",
    "plt.show()"
   ]
  },
  {
   "cell_type": "markdown",
   "metadata": {},
   "source": [
    "### 내부에 포함된 객체정보를 가져오기"
   ]
  },
  {
   "cell_type": "code",
   "execution_count": 25,
   "metadata": {},
   "outputs": [
    {
     "data": {
      "text/plain": [
       "[<matplotlib.lines.Line2D at 0x10b9106a0>,\n",
       " <matplotlib.lines.Line2D at 0x10b8a67f0>,\n",
       " <matplotlib.spines.Spine at 0x10b9100f0>,\n",
       " <matplotlib.spines.Spine at 0x10b907ba8>,\n",
       " <matplotlib.spines.Spine at 0x10b907e80>,\n",
       " <matplotlib.spines.Spine at 0x10b907470>,\n",
       " <matplotlib.axis.XAxis at 0x10b9079e8>,\n",
       " <matplotlib.axis.YAxis at 0x10b8a7198>,\n",
       " Text(0.5,1,'Legend inside'),\n",
       " Text(0,1,''),\n",
       " Text(1,1,''),\n",
       " <matplotlib.legend.Legend at 0x10bdd5d68>,\n",
       " <matplotlib.patches.Rectangle at 0x10b87f8d0>]"
      ]
     },
     "execution_count": 25,
     "metadata": {},
     "output_type": "execute_result"
    }
   ],
   "source": [
    "ax.get_children()"
   ]
  },
  {
   "cell_type": "code",
   "execution_count": 20,
   "metadata": {},
   "outputs": [
    {
     "data": {
      "text/plain": [
       "'Legend inside'"
      ]
     },
     "execution_count": 20,
     "metadata": {},
     "output_type": "execute_result"
    }
   ],
   "source": [
    "ax.get_title()"
   ]
  },
  {
   "cell_type": "markdown",
   "metadata": {},
   "source": [
    "### 축에 있는 정보를 가져오기"
   ]
  },
  {
   "cell_type": "code",
   "execution_count": 16,
   "metadata": {},
   "outputs": [
    {
     "data": {
      "text/plain": [
       "<matplotlib.axis.XAxis at 0x10b9079e8>"
      ]
     },
     "execution_count": 16,
     "metadata": {},
     "output_type": "execute_result"
    }
   ],
   "source": [
    "ax.get_xaxis()"
   ]
  },
  {
   "cell_type": "code",
   "execution_count": 18,
   "metadata": {},
   "outputs": [
    {
     "data": {
      "text/plain": [
       "array([ -2.,   0.,   2.,   4.,   6.,   8.,  10.])"
      ]
     },
     "execution_count": 18,
     "metadata": {},
     "output_type": "execute_result"
    }
   ],
   "source": [
    "ax.get_xticks()"
   ]
  },
  {
   "cell_type": "code",
   "execution_count": 14,
   "metadata": {},
   "outputs": [
    {
     "data": {
      "text/plain": [
       "' arange '"
      ]
     },
     "execution_count": 14,
     "metadata": {},
     "output_type": "execute_result"
    }
   ],
   "source": [
    "ax.get_xlabel()"
   ]
  },
  {
   "cell_type": "code",
   "execution_count": 23,
   "metadata": {},
   "outputs": [
    {
     "data": {
      "text/plain": [
       "(-0.45000000000000001, 9.4499999999999993)"
      ]
     },
     "execution_count": 23,
     "metadata": {},
     "output_type": "execute_result"
    }
   ],
   "source": [
    "ax.get_xlim()"
   ]
  },
  {
   "cell_type": "code",
   "execution_count": 17,
   "metadata": {},
   "outputs": [
    {
     "data": {
      "text/plain": [
       "<matplotlib.axis.YAxis at 0x10b8a7198>"
      ]
     },
     "execution_count": 17,
     "metadata": {},
     "output_type": "execute_result"
    }
   ],
   "source": [
    "ax.get_yaxis()"
   ]
  },
  {
   "cell_type": "code",
   "execution_count": 19,
   "metadata": {},
   "outputs": [
    {
     "data": {
      "text/plain": [
       "array([  0. ,   2.5,   5. ,   7.5,  10. ,  12.5,  15. ,  17.5,  20. ,  22.5])"
      ]
     },
     "execution_count": 19,
     "metadata": {},
     "output_type": "execute_result"
    }
   ],
   "source": [
    "ax.get_yticks()"
   ]
  },
  {
   "cell_type": "code",
   "execution_count": 15,
   "metadata": {},
   "outputs": [
    {
     "data": {
      "text/plain": [
       "' list '"
      ]
     },
     "execution_count": 15,
     "metadata": {},
     "output_type": "execute_result"
    }
   ],
   "source": [
    "ax.get_ylabel()"
   ]
  },
  {
   "cell_type": "code",
   "execution_count": 24,
   "metadata": {},
   "outputs": [
    {
     "data": {
      "text/plain": [
       "(1.1000000000000001, 20.899999999999999)"
      ]
     },
     "execution_count": 24,
     "metadata": {},
     "output_type": "execute_result"
    }
   ],
   "source": [
    "ax.get_ylim()"
   ]
  },
  {
   "cell_type": "markdown",
   "metadata": {},
   "source": [
    "### 범레 정보 가져오기"
   ]
  },
  {
   "cell_type": "code",
   "execution_count": 22,
   "metadata": {},
   "outputs": [
    {
     "data": {
      "text/plain": [
       "<matplotlib.legend.Legend at 0x10bdd5d68>"
      ]
     },
     "execution_count": 22,
     "metadata": {},
     "output_type": "execute_result"
    }
   ],
   "source": [
    "ax.get_legend()"
   ]
  },
  {
   "cell_type": "code",
   "execution_count": 21,
   "metadata": {},
   "outputs": [
    {
     "data": {
      "text/plain": [
       "([<matplotlib.lines.Line2D at 0x10b9106a0>,\n",
       "  <matplotlib.lines.Line2D at 0x10b8a67f0>],\n",
       " ['$y = numbers', '$y2 = other numbers'])"
      ]
     },
     "execution_count": 21,
     "metadata": {},
     "output_type": "execute_result"
    }
   ],
   "source": [
    "ax.get_legend_handles_labels()"
   ]
  },
  {
   "cell_type": "markdown",
   "metadata": {},
   "source": [
    "# set 메소드 알아보기"
   ]
  },
  {
   "cell_type": "code",
   "execution_count": 8,
   "metadata": {},
   "outputs": [
    {
     "name": "stdout",
     "output_type": "stream",
     "text": [
      "set_adjustable\n",
      "set_agg_filter\n",
      "set_alpha\n",
      "set_anchor\n",
      "set_animated\n",
      "set_aspect\n",
      "set_autoscale_on\n",
      "set_autoscalex_on\n",
      "set_autoscaley_on\n",
      "set_axes_locator\n",
      "set_axis_bgcolor\n",
      "set_axis_off\n",
      "set_axis_on\n",
      "set_axisbelow\n",
      "set_clip_box\n",
      "set_clip_on\n",
      "set_clip_path\n",
      "set_color_cycle\n",
      "set_contains\n",
      "set_cursor_props\n",
      "set_facecolor\n",
      "set_fc\n",
      "set_figure\n",
      "set_frame_on\n",
      "set_gid\n",
      "set_label\n",
      "set_navigate\n",
      "set_navigate_mode\n",
      "set_path_effects\n",
      "set_picker\n",
      "set_position\n",
      "set_prop_cycle\n",
      "set_rasterization_zorder\n",
      "set_rasterized\n",
      "set_sketch_params\n",
      "set_snap\n",
      "set_subplotspec\n",
      "set_title\n",
      "set_transform\n",
      "set_url\n",
      "set_visible\n",
      "set_xbound\n",
      "set_xlabel\n",
      "set_xlim\n",
      "set_xmargin\n",
      "set_xscale\n",
      "set_xticklabels\n",
      "set_xticks\n",
      "set_ybound\n",
      "set_ylabel\n",
      "set_ylim\n",
      "set_ymargin\n",
      "set_yscale\n",
      "set_yticklabels\n",
      "set_yticks\n",
      "set_zorder\n"
     ]
    }
   ],
   "source": [
    "for i in dir(ax) :\n",
    "    if i.startswith(\"set_\") :\n",
    "        print(i)"
   ]
  },
  {
   "cell_type": "code",
   "execution_count": 26,
   "metadata": {},
   "outputs": [
    {
     "data": {
      "image/png": "[encoded data removed]",
      "text/plain": [
       "<matplotlib.figure.Figure at 0x10b69aeb8>"
      ]
     },
     "metadata": {},
     "output_type": "display_data"
    }
   ],
   "source": [
    "fig = plt.figure()\n",
    "ax = plt.subplot(111)\n",
    "ax.plot(x, y, label='$y = numbers')\n",
    "ax.plot(x, y2, label='$y2 = other numbers')\n",
    "ax.set_title('Legend inside')\n",
    "ax.set_xlabel(\" arange \")\n",
    "ax.set_ylabel(\" list \")\n",
    "ax.legend(bbox_to_anchor=(1.04,0), loc='lower left',borderaxespad=0)\n",
    "plt.show()"
   ]
  },
  {
   "cell_type": "markdown",
   "metadata": {},
   "source": [
    "## 좌표를 이동하기"
   ]
  },
  {
   "cell_type": "code",
   "execution_count": 28,
   "metadata": {},
   "outputs": [
    {
     "data": {
      "image/png": "[encoded data removed]",
      "text/plain": [
       "<matplotlib.figure.Figure at 0x10c8008d0>"
      ]
     },
     "metadata": {},
     "output_type": "display_data"
    }
   ],
   "source": [
    "\n",
    "X = np.linspace(-np.pi, np.pi, 256,endpoint=True)\n",
    "C,S = np.cos(X), np.sin(X)\n",
    "\n",
    "# Plot cosine using blue color with a continuous line of width 1 (pixels)\n",
    "plt.plot(X, C, color=\"blue\", linewidth=1.0, linestyle=\"-\")\n",
    "\n",
    "# Plot sine using green color with a continuous line of width 1 (pixels)\n",
    "plt.plot(X, S, color=\"green\", linewidth=1.0, linestyle=\"-\")\n",
    "\n",
    "ax = plt.gca()\n",
    "ax.spines['right'].set_color('none')\n",
    "ax.spines['top'].set_color('none')\n",
    "ax.xaxis.set_ticks_position('bottom')\n",
    "ax.spines['bottom'].set_position(('data',0))\n",
    "ax.yaxis.set_ticks_position('left')\n",
    "ax.spines['left'].set_position(('data',0))\n",
    "\n",
    "plt.show()"
   ]
  },
  {
   "cell_type": "code",
   "execution_count": 30,
   "metadata": {},
   "outputs": [
    {
     "data": {
      "text/plain": [
       "[<matplotlib.lines.Line2D at 0x10c5db240>,\n",
       " <matplotlib.lines.Line2D at 0x10c800b00>,\n",
       " <matplotlib.spines.Spine at 0x10b68e2b0>,\n",
       " <matplotlib.spines.Spine at 0x10c7e88d0>,\n",
       " <matplotlib.spines.Spine at 0x10c7e8da0>,\n",
       " <matplotlib.spines.Spine at 0x10c7e84e0>,\n",
       " <matplotlib.axis.XAxis at 0x10b694400>,\n",
       " <matplotlib.axis.YAxis at 0x10c883d30>,\n",
       " Text(0.5,1,''),\n",
       " Text(0,1,''),\n",
       " Text(1,1,''),\n",
       " <matplotlib.patches.Rectangle at 0x10c606160>]"
      ]
     },
     "execution_count": 30,
     "metadata": {},
     "output_type": "execute_result"
    }
   ],
   "source": [
    "ax.get_children()"
   ]
  },
  {
   "cell_type": "code",
   "execution_count": 31,
   "metadata": {},
   "outputs": [
    {
     "data": {
      "text/plain": [
       "OrderedDict([('left', <matplotlib.spines.Spine at 0x10b68e2b0>),\n",
       "             ('right', <matplotlib.spines.Spine at 0x10c7e88d0>),\n",
       "             ('bottom', <matplotlib.spines.Spine at 0x10c7e8da0>),\n",
       "             ('top', <matplotlib.spines.Spine at 0x10c7e84e0>)])"
      ]
     },
     "execution_count": 31,
     "metadata": {},
     "output_type": "execute_result"
    }
   ],
   "source": [
    "ax.spines"
   ]
  },
  {
   "cell_type": "markdown",
   "metadata": {},
   "source": [
    "### 위와 우측 spines를 없애기"
   ]
  },
  {
   "cell_type": "code",
   "execution_count": 32,
   "metadata": {},
   "outputs": [
    {
     "data": {
      "image/png": "[encoded data removed]",
      "text/plain": [
       "<matplotlib.figure.Figure at 0x10c7d6a90>"
      ]
     },
     "metadata": {},
     "output_type": "display_data"
    }
   ],
   "source": [
    "ax = plt.gca()\n",
    "ax.spines['right'].set_color('none')\n",
    "ax.spines['top'].set_color('none')\n",
    "ax.xaxis.set_ticks_position('bottom')\n",
    "ax.spines['bottom'].set_position(('data',0))\n",
    "ax.yaxis.set_ticks_position('left')\n",
    "ax.spines['left'].set_position(('data',0))\n",
    "\n",
    "plt.show()"
   ]
  },
  {
   "cell_type": "markdown",
   "metadata": {},
   "source": [
    "### 그래프를 그리면 자동으로 spines이 중앙으로 이동해서 처리됨"
   ]
  },
  {
   "cell_type": "code",
   "execution_count": 33,
   "metadata": {},
   "outputs": [
    {
     "data": {
      "image/png": "[encoded data removed]",
      "text/plain": [
       "<matplotlib.figure.Figure at 0x10c8db3c8>"
      ]
     },
     "metadata": {},
     "output_type": "display_data"
    }
   ],
   "source": [
    "X = np.linspace(-np.pi, np.pi, 256,endpoint=True)\n",
    "C,S = np.cos(X), np.sin(X)\n",
    "\n",
    "# Plot cosine using blue color with a continuous line of width 1 (pixels)\n",
    "plt.plot(X, C, color=\"blue\", linewidth=1.0, linestyle=\"-\")\n",
    "\n",
    "# Plot sine using green color with a continuous line of width 1 (pixels)\n",
    "plt.plot(X, S, color=\"green\", linewidth=1.0, linestyle=\"-\")\n",
    "\n",
    "ax = plt.gca()\n",
    "ax.spines['right'].set_color('none')\n",
    "ax.spines['top'].set_color('none')\n",
    "ax.xaxis.set_ticks_position('bottom')\n",
    "ax.spines['bottom'].set_position(('data',0))\n",
    "ax.yaxis.set_ticks_position('left')\n",
    "ax.spines['left'].set_position(('data',0))\n",
    "\n",
    "plt.show()"
   ]
  },
  {
   "cell_type": "code",
   "execution_count": null,
   "metadata": {
    "collapsed": true
   },
   "outputs": [],
   "source": []
  }
 ],
 "metadata": {
  "kernelspec": {
   "display_name": "Python 3",
   "language": "python",
   "name": "python3"
  },
  "language_info": {
   "codemirror_mode": {
    "name": "ipython",
    "version": 3
   },
   "file_extension": ".py",
   "mimetype": "text/x-python",
   "name": "python",
   "nbconvert_exporter": "python",
   "pygments_lexer": "ipython3",
   "version": "3.6.1"
  }
 },
 "nbformat": 4,
 "nbformat_minor": 2
}
