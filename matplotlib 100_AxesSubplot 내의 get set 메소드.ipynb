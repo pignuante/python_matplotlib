{
 "cells": [
  {
   "cell_type": "code",
   "execution_count": 1,
   "metadata": {
    "collapsed": true
   },
   "outputs": [],
   "source": [
    "import matplotlib.pyplot as plt"
   ]
  },
  {
   "cell_type": "code",
   "execution_count": 2,
   "metadata": {
    "collapsed": true
   },
   "outputs": [],
   "source": [
    "import numpy as np"
   ]
  },
  {
   "cell_type": "code",
   "execution_count": 3,
   "metadata": {
    "collapsed": true
   },
   "outputs": [],
   "source": [
    "%matplotlib inline"
   ]
  },
  {
   "cell_type": "markdown",
   "metadata": {},
   "source": [
    "### get 메소드 알아보기"
   ]
  },
  {
   "cell_type": "code",
   "execution_count": null,
   "metadata": {
    "collapsed": true
   },
   "outputs": [],
   "source": [
    "x = np.arange(-2*np.pi, 2*np.pi, 0.1)"
   ]
  },
  {
   "cell_type": "code",
   "execution_count": 4,
   "metadata": {},
   "outputs": [
    {
     "data": {
      "text/plain": [
       "<matplotlib.figure.Figure at 0x10b63b240>"
      ]
     },
     "metadata": {},
     "output_type": "display_data"
    }
   ],
   "source": [
    "fig = plt.figure(num=1, figsize=(13, 13), dpi=80, facecolor='w', edgecolor='k')"
   ]
  },
  {
   "cell_type": "code",
   "execution_count": 5,
   "metadata": {
    "collapsed": true
   },
   "outputs": [],
   "source": [
    "ax = fig.add_subplot(111)"
   ]
  },
  {
   "cell_type": "code",
   "execution_count": 7,
   "metadata": {},
   "outputs": [
    {
     "name": "stdout",
     "output_type": "stream",
     "text": [
      "get_adjustable\n",
      "get_agg_filter\n",
      "get_alpha\n",
      "get_anchor\n",
      "get_animated\n",
      "get_aspect\n",
      "get_autoscale_on\n",
      "get_autoscalex_on\n",
      "get_autoscaley_on\n",
      "get_axes_locator\n",
      "get_axis_bgcolor\n",
      "get_axisbelow\n",
      "get_children\n",
      "get_clip_box\n",
      "get_clip_on\n",
      "get_clip_path\n",
      "get_contains\n",
      "get_cursor_data\n",
      "get_cursor_props\n",
      "get_data_ratio\n",
      "get_data_ratio_log\n",
      "get_default_bbox_extra_artists\n",
      "get_facecolor\n",
      "get_fc\n",
      "get_figure\n",
      "get_frame_on\n",
      "get_geometry\n",
      "get_gid\n",
      "get_images\n",
      "get_label\n",
      "get_legend\n",
      "get_legend_handles_labels\n",
      "get_lines\n",
      "get_navigate\n",
      "get_navigate_mode\n",
      "get_path_effects\n",
      "get_picker\n",
      "get_position\n",
      "get_rasterization_zorder\n",
      "get_rasterized\n",
      "get_renderer_cache\n",
      "get_shared_x_axes\n",
      "get_shared_y_axes\n",
      "get_sketch_params\n",
      "get_snap\n",
      "get_subplotspec\n",
      "get_tightbbox\n",
      "get_title\n",
      "get_transform\n",
      "get_transformed_clip_path_and_affine\n",
      "get_url\n",
      "get_visible\n",
      "get_window_extent\n",
      "get_xaxis\n",
      "get_xaxis_text1_transform\n",
      "get_xaxis_text2_transform\n",
      "get_xaxis_transform\n",
      "get_xbound\n",
      "get_xgridlines\n",
      "get_xlabel\n",
      "get_xlim\n",
      "get_xmajorticklabels\n",
      "get_xminorticklabels\n",
      "get_xscale\n",
      "get_xticklabels\n",
      "get_xticklines\n",
      "get_xticks\n",
      "get_yaxis\n",
      "get_yaxis_text1_transform\n",
      "get_yaxis_text2_transform\n",
      "get_yaxis_transform\n",
      "get_ybound\n",
      "get_ygridlines\n",
      "get_ylabel\n",
      "get_ylim\n",
      "get_ymajorticklabels\n",
      "get_yminorticklabels\n",
      "get_yscale\n",
      "get_yticklabels\n",
      "get_yticklines\n",
      "get_yticks\n",
      "get_zorder\n"
     ]
    }
   ],
   "source": [
    "for i in dir(ax) :\n",
    "    if i.startswith(\"get_\") :\n",
    "        print(i)"
   ]
  },
  {
   "cell_type": "markdown",
   "metadata": {},
   "source": [
    "### set 메소드 알아보기"
   ]
  },
  {
   "cell_type": "code",
   "execution_count": 8,
   "metadata": {},
   "outputs": [
    {
     "name": "stdout",
     "output_type": "stream",
     "text": [
      "set_adjustable\n",
      "set_agg_filter\n",
      "set_alpha\n",
      "set_anchor\n",
      "set_animated\n",
      "set_aspect\n",
      "set_autoscale_on\n",
      "set_autoscalex_on\n",
      "set_autoscaley_on\n",
      "set_axes_locator\n",
      "set_axis_bgcolor\n",
      "set_axis_off\n",
      "set_axis_on\n",
      "set_axisbelow\n",
      "set_clip_box\n",
      "set_clip_on\n",
      "set_clip_path\n",
      "set_color_cycle\n",
      "set_contains\n",
      "set_cursor_props\n",
      "set_facecolor\n",
      "set_fc\n",
      "set_figure\n",
      "set_frame_on\n",
      "set_gid\n",
      "set_label\n",
      "set_navigate\n",
      "set_navigate_mode\n",
      "set_path_effects\n",
      "set_picker\n",
      "set_position\n",
      "set_prop_cycle\n",
      "set_rasterization_zorder\n",
      "set_rasterized\n",
      "set_sketch_params\n",
      "set_snap\n",
      "set_subplotspec\n",
      "set_title\n",
      "set_transform\n",
      "set_url\n",
      "set_visible\n",
      "set_xbound\n",
      "set_xlabel\n",
      "set_xlim\n",
      "set_xmargin\n",
      "set_xscale\n",
      "set_xticklabels\n",
      "set_xticks\n",
      "set_ybound\n",
      "set_ylabel\n",
      "set_ylim\n",
      "set_ymargin\n",
      "set_yscale\n",
      "set_yticklabels\n",
      "set_yticks\n",
      "set_zorder\n"
     ]
    }
   ],
   "source": [
    "for i in dir(ax) :\n",
    "    if i.startswith(\"set_\") :\n",
    "        print(i)"
   ]
  },
  {
   "cell_type": "code",
   "execution_count": null,
   "metadata": {
    "collapsed": true
   },
   "outputs": [],
   "source": []
  }
 ],
 "metadata": {
  "kernelspec": {
   "display_name": "Python 3",
   "language": "python",
   "name": "python3"
  },
  "language_info": {
   "codemirror_mode": {
    "name": "ipython",
    "version": 3
   },
   "file_extension": ".py",
   "mimetype": "text/x-python",
   "name": "python",
   "nbconvert_exporter": "python",
   "pygments_lexer": "ipython3",
   "version": "3.6.1"
  }
 },
 "nbformat": 4,
 "nbformat_minor": 2
}
