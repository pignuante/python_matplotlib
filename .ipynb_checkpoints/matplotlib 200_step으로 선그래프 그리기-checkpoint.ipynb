{
 "cells": [
  {
   "cell_type": "code",
   "execution_count": 1,
   "metadata": {
    "collapsed": true
   },
   "outputs": [],
   "source": [
    "import matplotlib.pyplot as plt\n",
    "import numpy as np"
   ]
  },
  {
   "cell_type": "code",
   "execution_count": 2,
   "metadata": {
    "collapsed": true
   },
   "outputs": [],
   "source": [
    "%matplotlib inline"
   ]
  },
  {
   "cell_type": "code",
   "execution_count": 3,
   "metadata": {},
   "outputs": [
    {
     "data": {
      "image/png": "[encoded data removed]",
      "text/plain": [
       "<matplotlib.figure.Figure at 0x10feec0f0>"
      ]
     },
     "metadata": {},
     "output_type": "display_data"
    }
   ],
   "source": [
    "x = np.arange(1, 7, 0.4)\n",
    "y0 = np.sin(x)\n",
    "y = y0.copy() + 2.5\n",
    "\n",
    "\n",
    "plt.title('Setting Axis Limits')\n",
    "plt.step(x, y)\n",
    "\n",
    "y -= 0.5\n",
    "plt.step(x, y)\n",
    "\n",
    "y -= 0.5\n",
    "plt.step(x, y)\n",
    "\n",
    "plt.xlim(0, 7) \n",
    "plt.ylim(-0.5, 4)\n",
    "\n",
    "plt.xlabel('X Axis limit is (0,7)')\n",
    "plt.ylabel('Y Axis limit is (-0.5,4)')\n",
    "\n",
    "plt.show()"
   ]
  },
  {
   "cell_type": "code",
   "execution_count": 4,
   "metadata": {},
   "outputs": [
    {
     "name": "stdout",
     "output_type": "stream",
     "text": [
      "Help on function step in module matplotlib.pyplot:\n",
      "\n",
      "step(x, y, *args, **kwargs)\n",
      "    Make a step plot.\n",
      "    \n",
      "    Parameters\n",
      "    ----------\n",
      "    x : array_like\n",
      "        1-D sequence, and it is assumed, but not checked,\n",
      "        that it is uniformly increasing.\n",
      "    \n",
      "    y : array_like\n",
      "        1-D sequence\n",
      "    \n",
      "    Returns\n",
      "    -------\n",
      "    list\n",
      "        List of lines that were added.\n",
      "    \n",
      "    Other Parameters\n",
      "    ----------------\n",
      "    where : [ 'pre' | 'post' | 'mid'  ]\n",
      "        If 'pre' (the default), the interval from\n",
      "        ``x[i]`` to ``x[i+1]`` has level ``y[i+1]``.\n",
      "    \n",
      "        If 'post', that interval has level ``y[i]``.\n",
      "    \n",
      "        If 'mid', the jumps in *y* occur half-way between the\n",
      "        *x*-values.\n",
      "    \n",
      "    Notes\n",
      "    -----\n",
      "    Additional parameters are the same as those for\n",
      "    :func:`~matplotlib.pyplot.plot`.\n",
      "    \n",
      "    .. note::\n",
      "        In addition to the above described arguments, this function can take a\n",
      "        **data** keyword argument. If such a **data** argument is given, the\n",
      "        following arguments are replaced by **data[<arg>]**:\n",
      "    \n",
      "        * All arguments with the following names: 'x', 'y'.\n",
      "\n"
     ]
    }
   ],
   "source": [
    "help(plt.step)"
   ]
  },
  {
   "cell_type": "code",
   "execution_count": null,
   "metadata": {
    "collapsed": true
   },
   "outputs": [],
   "source": []
  }
 ],
 "metadata": {
  "kernelspec": {
   "display_name": "Python 3",
   "language": "python",
   "name": "python3"
  },
  "language_info": {
   "codemirror_mode": {
    "name": "ipython",
    "version": 3
   },
   "file_extension": ".py",
   "mimetype": "text/x-python",
   "name": "python",
   "nbconvert_exporter": "python",
   "pygments_lexer": "ipython3",
   "version": "3.6.1"
  }
 },
 "nbformat": 4,
 "nbformat_minor": 2
}
