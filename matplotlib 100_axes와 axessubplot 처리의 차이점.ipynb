{
 "cells": [
  {
   "cell_type": "code",
   "execution_count": 1,
   "metadata": {
    "collapsed": true
   },
   "outputs": [],
   "source": [
    "import matplotlib.axes"
   ]
  },
  {
   "cell_type": "code",
   "execution_count": 2,
   "metadata": {},
   "outputs": [
    {
     "data": {
      "text/plain": [
       "matplotlib.axes._axes.Axes"
      ]
     },
     "execution_count": 2,
     "metadata": {},
     "output_type": "execute_result"
    }
   ],
   "source": [
    "matplotlib.axes.Axes"
   ]
  },
  {
   "cell_type": "code",
   "execution_count": 3,
   "metadata": {},
   "outputs": [
    {
     "name": "stdout",
     "output_type": "stream",
     "text": [
      "acorr\n",
      "add_artist\n",
      "add_callback\n",
      "add_collection\n",
      "add_container\n",
      "add_image\n",
      "add_line\n",
      "add_patch\n",
      "add_table\n",
      "aname\n",
      "angle_spectrum\n",
      "annotate\n",
      "apply_aspect\n",
      "arrow\n",
      "autoscale\n",
      "autoscale_view\n",
      "axes\n",
      "axesPatch\n",
      "axhline\n",
      "axhspan\n",
      "axis\n",
      "axvline\n",
      "axvspan\n",
      "bar\n",
      "barbs\n",
      "barh\n",
      "boxplot\n",
      "broken_barh\n",
      "bxp\n",
      "can_pan\n",
      "can_zoom\n",
      "cla\n",
      "clabel\n",
      "clear\n",
      "cohere\n",
      "contains\n",
      "contains_point\n",
      "contour\n",
      "contourf\n",
      "convert_xunits\n",
      "convert_yunits\n",
      "csd\n",
      "drag_pan\n",
      "draw\n",
      "draw_artist\n",
      "end_pan\n",
      "errorbar\n",
      "eventplot\n",
      "fill\n",
      "fill_between\n",
      "fill_betweenx\n",
      "findobj\n",
      "format_coord\n",
      "format_cursor_data\n",
      "format_xdata\n",
      "format_ydata\n",
      "get_adjustable\n",
      "get_agg_filter\n",
      "get_alpha\n",
      "get_anchor\n",
      "get_animated\n",
      "get_aspect\n",
      "get_autoscale_on\n",
      "get_autoscalex_on\n",
      "get_autoscaley_on\n",
      "get_axes_locator\n",
      "get_axis_bgcolor\n",
      "get_axisbelow\n",
      "get_children\n",
      "get_clip_box\n",
      "get_clip_on\n",
      "get_clip_path\n",
      "get_contains\n",
      "get_cursor_data\n",
      "get_cursor_props\n",
      "get_data_ratio\n",
      "get_data_ratio_log\n",
      "get_default_bbox_extra_artists\n",
      "get_facecolor\n",
      "get_fc\n",
      "get_figure\n",
      "get_frame_on\n",
      "get_gid\n",
      "get_images\n",
      "get_label\n",
      "get_legend\n",
      "get_legend_handles_labels\n",
      "get_lines\n",
      "get_navigate\n",
      "get_navigate_mode\n",
      "get_path_effects\n",
      "get_picker\n",
      "get_position\n",
      "get_rasterization_zorder\n",
      "get_rasterized\n",
      "get_renderer_cache\n",
      "get_shared_x_axes\n",
      "get_shared_y_axes\n",
      "get_sketch_params\n",
      "get_snap\n",
      "get_tightbbox\n",
      "get_title\n",
      "get_transform\n",
      "get_transformed_clip_path_and_affine\n",
      "get_url\n",
      "get_visible\n",
      "get_window_extent\n",
      "get_xaxis\n",
      "get_xaxis_text1_transform\n",
      "get_xaxis_text2_transform\n",
      "get_xaxis_transform\n",
      "get_xbound\n",
      "get_xgridlines\n",
      "get_xlabel\n",
      "get_xlim\n",
      "get_xmajorticklabels\n",
      "get_xminorticklabels\n",
      "get_xscale\n",
      "get_xticklabels\n",
      "get_xticklines\n",
      "get_xticks\n",
      "get_yaxis\n",
      "get_yaxis_text1_transform\n",
      "get_yaxis_text2_transform\n",
      "get_yaxis_transform\n",
      "get_ybound\n",
      "get_ygridlines\n",
      "get_ylabel\n",
      "get_ylim\n",
      "get_ymajorticklabels\n",
      "get_yminorticklabels\n",
      "get_yscale\n",
      "get_yticklabels\n",
      "get_yticklines\n",
      "get_yticks\n",
      "get_zorder\n",
      "grid\n",
      "has_data\n",
      "have_units\n",
      "hexbin\n",
      "hist\n",
      "hist2d\n",
      "hitlist\n",
      "hlines\n",
      "hold\n",
      "imshow\n",
      "in_axes\n",
      "invert_xaxis\n",
      "invert_yaxis\n",
      "is_figure_set\n",
      "is_transform_set\n",
      "ishold\n",
      "legend\n",
      "locator_params\n",
      "loglog\n",
      "magnitude_spectrum\n",
      "margins\n",
      "matshow\n",
      "minorticks_off\n",
      "minorticks_on\n",
      "mouseover\n",
      "name\n",
      "pchanged\n",
      "pcolor\n",
      "pcolorfast\n",
      "pcolormesh\n",
      "phase_spectrum\n",
      "pick\n",
      "pickable\n",
      "pie\n",
      "plot\n",
      "plot_date\n",
      "properties\n",
      "psd\n",
      "quiver\n",
      "quiverkey\n",
      "redraw_in_frame\n",
      "relim\n",
      "remove\n",
      "remove_callback\n",
      "reset_position\n",
      "scatter\n",
      "semilogx\n",
      "semilogy\n",
      "set\n",
      "set_adjustable\n",
      "set_agg_filter\n",
      "set_alpha\n",
      "set_anchor\n",
      "set_animated\n",
      "set_aspect\n",
      "set_autoscale_on\n",
      "set_autoscalex_on\n",
      "set_autoscaley_on\n",
      "set_axes_locator\n",
      "set_axis_bgcolor\n",
      "set_axis_off\n",
      "set_axis_on\n",
      "set_axisbelow\n",
      "set_clip_box\n",
      "set_clip_on\n",
      "set_clip_path\n",
      "set_color_cycle\n",
      "set_contains\n",
      "set_cursor_props\n",
      "set_facecolor\n",
      "set_fc\n",
      "set_figure\n",
      "set_frame_on\n",
      "set_gid\n",
      "set_label\n",
      "set_navigate\n",
      "set_navigate_mode\n",
      "set_path_effects\n",
      "set_picker\n",
      "set_position\n",
      "set_prop_cycle\n",
      "set_rasterization_zorder\n",
      "set_rasterized\n",
      "set_sketch_params\n",
      "set_snap\n",
      "set_title\n",
      "set_transform\n",
      "set_url\n",
      "set_visible\n",
      "set_xbound\n",
      "set_xlabel\n",
      "set_xlim\n",
      "set_xmargin\n",
      "set_xscale\n",
      "set_xticklabels\n",
      "set_xticks\n",
      "set_ybound\n",
      "set_ylabel\n",
      "set_ylim\n",
      "set_ymargin\n",
      "set_yscale\n",
      "set_yticklabels\n",
      "set_yticks\n",
      "set_zorder\n",
      "specgram\n",
      "spy\n",
      "stackplot\n",
      "stale\n",
      "start_pan\n",
      "stem\n",
      "step\n",
      "sticky_edges\n",
      "streamplot\n",
      "table\n",
      "text\n",
      "tick_params\n",
      "ticklabel_format\n",
      "tricontour\n",
      "tricontourf\n",
      "tripcolor\n",
      "triplot\n",
      "twinx\n",
      "twiny\n",
      "update\n",
      "update_datalim\n",
      "update_datalim_bounds\n",
      "update_datalim_numerix\n",
      "update_from\n",
      "use_sticky_edges\n",
      "violin\n",
      "violinplot\n",
      "vlines\n",
      "xaxis_date\n",
      "xaxis_inverted\n",
      "xcorr\n",
      "yaxis_date\n",
      "yaxis_inverted\n",
      "zorder\n"
     ]
    }
   ],
   "source": [
    "for i in dir(matplotlib.axes.Axes) :\n",
    "    if not i.startswith(\"_\") :\n",
    "        print(i)"
   ]
  },
  {
   "cell_type": "code",
   "execution_count": 7,
   "metadata": {
    "collapsed": true
   },
   "outputs": [],
   "source": [
    "import matplotlib.pyplot as plt"
   ]
  },
  {
   "cell_type": "code",
   "execution_count": 8,
   "metadata": {
    "collapsed": true
   },
   "outputs": [],
   "source": [
    "%matplotlib inline"
   ]
  },
  {
   "cell_type": "code",
   "execution_count": 9,
   "metadata": {
    "collapsed": true
   },
   "outputs": [],
   "source": [
    "import numpy as np"
   ]
  },
  {
   "cell_type": "code",
   "execution_count": 10,
   "metadata": {},
   "outputs": [
    {
     "data": {
      "text/plain": [
       "<matplotlib.figure.Figure at 0x1056a3320>"
      ]
     },
     "metadata": {},
     "output_type": "display_data"
    }
   ],
   "source": [
    "a = plt.figure(1)"
   ]
  },
  {
   "cell_type": "code",
   "execution_count": 11,
   "metadata": {},
   "outputs": [
    {
     "data": {
      "text/plain": [
       "<matplotlib.figure.Figure at 0x1056a3320>"
      ]
     },
     "execution_count": 11,
     "metadata": {},
     "output_type": "execute_result"
    }
   ],
   "source": [
    "a"
   ]
  },
  {
   "cell_type": "markdown",
   "metadata": {},
   "source": [
    "# Axes와 Subplot\n",
    "\n",
    "\n",
    "    때로는 다음과 같이 하나의 윈도우(Figure)안에 여러개의 플롯을 배열 형태로 보여야하는 경우도 있다. \n",
    "    Figure 안에 있는 각각의 플롯은 Axes 라고 불리는 객체에 속한다.\n",
    "\n",
    "    Axes 객체에 대한 자세한 설명은 다음 웹사이트를 참조한다.\n",
    "\n",
    "    http://matplotlib.org/api/axes_api.html#matplotlib.axes.Axes\n",
    "    \n",
    "    Figure 안에 Axes를 생성하려면 원래는 subplot 명령을 사용하여 명시적으로 Axes 객체를 얻어야 한다. \n",
    "    그러나 plot 명령을 바로 사용해도 자동으로 Axes를 생성해 준다.\n",
    "\n",
    "    subplot 명령은 그리드(grid) 형태의 Axes 객체들을 생성하는데 Figure가 행렬(matrix)이고 Axes가 행렬의 원소라고 생각하면 된다. \n",
    "    예를 들어 위와 아래 두 개의 플롯이 있는 경우 행이 2 이고 열이 1인 2x1 행렬이다.\n",
    "\n",
    "    subplot 명령은 세개의 인수를 가지는데 처음 두개의 원소가 전체 그리드 행렬의 모양을 지시하는 \n",
    "    두 숫자이고 세번째 인수가 네 개 중 어느것인지를 의미하는 숫자이다."
   ]
  },
  {
   "cell_type": "code",
   "execution_count": 12,
   "metadata": {},
   "outputs": [
    {
     "name": "stdout",
     "output_type": "stream",
     "text": [
      "AxesSubplot(0.125,0.536818;0.775x0.343182)\n",
      "AxesSubplot(0.125,0.125;0.775x0.343182)\n"
     ]
    },
    {
     "data": {
      "image/png": "[encoded data removed]",
      "text/plain": [
       "<matplotlib.figure.Figure at 0x1056db668>"
      ]
     },
     "metadata": {},
     "output_type": "display_data"
    }
   ],
   "source": [
    "x1 = np.linspace(0.0, 5.0)\n",
    "x2 = np.linspace(0.0, 2.0)\n",
    "y1 = np.cos(2 * np.pi * x1) * np.exp(-x1)\n",
    "y2 = np.cos(2 * np.pi * x2)\n",
    "\n",
    "ax1 = plt.subplot(2, 1, 1)\n",
    "plt.plot(x1, y1, 'yo-')\n",
    "plt.title('A tale of 2 subplots')\n",
    "plt.ylabel('Damped oscillation')\n",
    "print(ax1)\n",
    "\n",
    "ax2 = plt.subplot(2, 1, 2)\n",
    "plt.plot(x2, y2, 'r.-')\n",
    "plt.xlabel('time (s)')\n",
    "plt.ylabel('Undamped')\n",
    "print(ax2)\n",
    "\n",
    "plt.show()"
   ]
  },
  {
   "cell_type": "code",
   "execution_count": null,
   "metadata": {
    "collapsed": true
   },
   "outputs": [],
   "source": []
  },
  {
   "cell_type": "markdown",
   "metadata": {},
   "source": [
    "## AxesSubplot"
   ]
  },
  {
   "cell_type": "code",
   "execution_count": 13,
   "metadata": {},
   "outputs": [
    {
     "data": {
      "image/png": "[encoded data removed]",
      "text/plain": [
       "<matplotlib.figure.Figure at 0x1056b0a58>"
      ]
     },
     "metadata": {},
     "output_type": "display_data"
    }
   ],
   "source": [
    "b = plt.subplot(221)"
   ]
  },
  {
   "cell_type": "code",
   "execution_count": 14,
   "metadata": {},
   "outputs": [
    {
     "data": {
      "text/plain": [
       "<matplotlib.axes._subplots.AxesSubplot at 0x1040d1a58>"
      ]
     },
     "execution_count": 14,
     "metadata": {},
     "output_type": "execute_result"
    }
   ],
   "source": [
    "b"
   ]
  },
  {
   "cell_type": "code",
   "execution_count": 15,
   "metadata": {},
   "outputs": [
    {
     "name": "stdout",
     "output_type": "stream",
     "text": [
      "acorr\n",
      "add_artist\n",
      "add_callback\n",
      "add_collection\n",
      "add_container\n",
      "add_image\n",
      "add_line\n",
      "add_patch\n",
      "add_table\n",
      "aname\n",
      "angle_spectrum\n",
      "annotate\n",
      "apply_aspect\n",
      "arrow\n",
      "artists\n",
      "autoscale\n",
      "autoscale_view\n",
      "axes\n",
      "axesPatch\n",
      "axhline\n",
      "axhspan\n",
      "axis\n",
      "axison\n",
      "axvline\n",
      "axvspan\n",
      "bar\n",
      "barbs\n",
      "barh\n",
      "bbox\n",
      "boxplot\n",
      "broken_barh\n",
      "bxp\n",
      "callbacks\n",
      "can_pan\n",
      "can_zoom\n",
      "change_geometry\n",
      "cla\n",
      "clabel\n",
      "clear\n",
      "clipbox\n",
      "cohere\n",
      "colNum\n",
      "collections\n",
      "containers\n",
      "contains\n",
      "contains_point\n",
      "contour\n",
      "contourf\n",
      "convert_xunits\n",
      "convert_yunits\n",
      "csd\n",
      "dataLim\n",
      "drag_pan\n",
      "draw\n",
      "draw_artist\n",
      "end_pan\n",
      "errorbar\n",
      "eventplot\n",
      "eventson\n",
      "figbox\n",
      "figure\n",
      "fill\n",
      "fill_between\n",
      "fill_betweenx\n",
      "findobj\n",
      "fmt_xdata\n",
      "fmt_ydata\n",
      "format_coord\n",
      "format_cursor_data\n",
      "format_xdata\n",
      "format_ydata\n",
      "get_adjustable\n",
      "get_agg_filter\n",
      "get_alpha\n",
      "get_anchor\n",
      "get_animated\n",
      "get_aspect\n",
      "get_autoscale_on\n",
      "get_autoscalex_on\n",
      "get_autoscaley_on\n",
      "get_axes_locator\n",
      "get_axis_bgcolor\n",
      "get_axisbelow\n",
      "get_children\n",
      "get_clip_box\n",
      "get_clip_on\n",
      "get_clip_path\n",
      "get_contains\n",
      "get_cursor_data\n",
      "get_cursor_props\n",
      "get_data_ratio\n",
      "get_data_ratio_log\n",
      "get_default_bbox_extra_artists\n",
      "get_facecolor\n",
      "get_fc\n",
      "get_figure\n",
      "get_frame_on\n",
      "get_geometry\n",
      "get_gid\n",
      "get_images\n",
      "get_label\n",
      "get_legend\n",
      "get_legend_handles_labels\n",
      "get_lines\n",
      "get_navigate\n",
      "get_navigate_mode\n",
      "get_path_effects\n",
      "get_picker\n",
      "get_position\n",
      "get_rasterization_zorder\n",
      "get_rasterized\n",
      "get_renderer_cache\n",
      "get_shared_x_axes\n",
      "get_shared_y_axes\n",
      "get_sketch_params\n",
      "get_snap\n",
      "get_subplotspec\n",
      "get_tightbbox\n",
      "get_title\n",
      "get_transform\n",
      "get_transformed_clip_path_and_affine\n",
      "get_url\n",
      "get_visible\n",
      "get_window_extent\n",
      "get_xaxis\n",
      "get_xaxis_text1_transform\n",
      "get_xaxis_text2_transform\n",
      "get_xaxis_transform\n",
      "get_xbound\n",
      "get_xgridlines\n",
      "get_xlabel\n",
      "get_xlim\n",
      "get_xmajorticklabels\n",
      "get_xminorticklabels\n",
      "get_xscale\n",
      "get_xticklabels\n",
      "get_xticklines\n",
      "get_xticks\n",
      "get_yaxis\n",
      "get_yaxis_text1_transform\n",
      "get_yaxis_text2_transform\n",
      "get_yaxis_transform\n",
      "get_ybound\n",
      "get_ygridlines\n",
      "get_ylabel\n",
      "get_ylim\n",
      "get_ymajorticklabels\n",
      "get_yminorticklabels\n",
      "get_yscale\n",
      "get_yticklabels\n",
      "get_yticklines\n",
      "get_yticks\n",
      "get_zorder\n",
      "grid\n",
      "has_data\n",
      "have_units\n",
      "hexbin\n",
      "hist\n",
      "hist2d\n",
      "hitlist\n",
      "hlines\n",
      "hold\n",
      "ignore_existing_data_limits\n",
      "images\n",
      "imshow\n",
      "in_axes\n",
      "invert_xaxis\n",
      "invert_yaxis\n",
      "is_figure_set\n",
      "is_first_col\n",
      "is_first_row\n",
      "is_last_col\n",
      "is_last_row\n",
      "is_transform_set\n",
      "ishold\n",
      "label_outer\n",
      "legend\n",
      "legend_\n",
      "lines\n",
      "locator_params\n",
      "loglog\n",
      "magnitude_spectrum\n",
      "margins\n",
      "matshow\n",
      "minorticks_off\n",
      "minorticks_on\n",
      "mouseover\n",
      "mouseover_set\n",
      "name\n",
      "numCols\n",
      "numRows\n",
      "patch\n",
      "patches\n",
      "pchanged\n",
      "pcolor\n",
      "pcolorfast\n",
      "pcolormesh\n",
      "phase_spectrum\n",
      "pick\n",
      "pickable\n",
      "pie\n",
      "plot\n",
      "plot_date\n",
      "properties\n",
      "psd\n",
      "quiver\n",
      "quiverkey\n",
      "redraw_in_frame\n",
      "relim\n",
      "remove\n",
      "remove_callback\n",
      "reset_position\n",
      "rowNum\n",
      "scatter\n",
      "semilogx\n",
      "semilogy\n",
      "set\n",
      "set_adjustable\n",
      "set_agg_filter\n",
      "set_alpha\n",
      "set_anchor\n",
      "set_animated\n",
      "set_aspect\n",
      "set_autoscale_on\n",
      "set_autoscalex_on\n",
      "set_autoscaley_on\n",
      "set_axes_locator\n",
      "set_axis_bgcolor\n",
      "set_axis_off\n",
      "set_axis_on\n",
      "set_axisbelow\n",
      "set_clip_box\n",
      "set_clip_on\n",
      "set_clip_path\n",
      "set_color_cycle\n",
      "set_contains\n",
      "set_cursor_props\n",
      "set_facecolor\n",
      "set_fc\n",
      "set_figure\n",
      "set_frame_on\n",
      "set_gid\n",
      "set_label\n",
      "set_navigate\n",
      "set_navigate_mode\n",
      "set_path_effects\n",
      "set_picker\n",
      "set_position\n",
      "set_prop_cycle\n",
      "set_rasterization_zorder\n",
      "set_rasterized\n",
      "set_sketch_params\n",
      "set_snap\n",
      "set_subplotspec\n",
      "set_title\n",
      "set_transform\n",
      "set_url\n",
      "set_visible\n",
      "set_xbound\n",
      "set_xlabel\n",
      "set_xlim\n",
      "set_xmargin\n",
      "set_xscale\n",
      "set_xticklabels\n",
      "set_xticks\n",
      "set_ybound\n",
      "set_ylabel\n",
      "set_ylim\n",
      "set_ymargin\n",
      "set_yscale\n",
      "set_yticklabels\n",
      "set_yticks\n",
      "set_zorder\n",
      "specgram\n",
      "spines\n",
      "spy\n",
      "stackplot\n",
      "stale\n",
      "stale_callback\n",
      "start_pan\n",
      "stem\n",
      "step\n",
      "sticky_edges\n",
      "streamplot\n",
      "table\n",
      "tables\n",
      "text\n",
      "texts\n",
      "tick_params\n",
      "ticklabel_format\n",
      "title\n",
      "titleOffsetTrans\n",
      "transAxes\n",
      "transData\n",
      "transLimits\n",
      "transScale\n",
      "tricontour\n",
      "tricontourf\n",
      "tripcolor\n",
      "triplot\n",
      "twinx\n",
      "twiny\n",
      "update\n",
      "update_datalim\n",
      "update_datalim_bounds\n",
      "update_datalim_numerix\n",
      "update_from\n",
      "update_params\n",
      "use_sticky_edges\n",
      "viewLim\n",
      "violin\n",
      "violinplot\n",
      "vlines\n",
      "xaxis\n",
      "xaxis_date\n",
      "xaxis_inverted\n",
      "xcorr\n",
      "yaxis\n",
      "yaxis_date\n",
      "yaxis_inverted\n",
      "zorder\n"
     ]
    }
   ],
   "source": [
    "for i in dir(b) :\n",
    "    if not i.startswith(\"_\") :\n",
    "        print(i)"
   ]
  },
  {
   "cell_type": "markdown",
   "metadata": {},
   "source": [
    "#  내부 속성들을 비교해 보기"
   ]
  },
  {
   "cell_type": "code",
   "execution_count": 16,
   "metadata": {
    "collapsed": true
   },
   "outputs": [],
   "source": [
    "sa = set(dir(a))\n",
    "sb = set(dir(b))"
   ]
  },
  {
   "cell_type": "code",
   "execution_count": 17,
   "metadata": {},
   "outputs": [
    {
     "data": {
      "text/plain": [
       "{'__class__',\n",
       " '__delattr__',\n",
       " '__dict__',\n",
       " '__dir__',\n",
       " '__doc__',\n",
       " '__eq__',\n",
       " '__format__',\n",
       " '__ge__',\n",
       " '__getattribute__',\n",
       " '__getstate__',\n",
       " '__gt__',\n",
       " '__hash__',\n",
       " '__init__',\n",
       " '__init_subclass__',\n",
       " '__le__',\n",
       " '__lt__',\n",
       " '__module__',\n",
       " '__ne__',\n",
       " '__new__',\n",
       " '__reduce__',\n",
       " '__reduce_ex__',\n",
       " '__repr__',\n",
       " '__setattr__',\n",
       " '__setstate__',\n",
       " '__sizeof__',\n",
       " '__str__',\n",
       " '__subclasshook__',\n",
       " '__weakref__',\n",
       " '_agg_filter',\n",
       " '_alpha',\n",
       " '_animated',\n",
       " '_cachedRenderer',\n",
       " '_clipon',\n",
       " '_clippath',\n",
       " '_contains',\n",
       " '_gci',\n",
       " '_gid',\n",
       " '_hold',\n",
       " '_label',\n",
       " '_mouseover',\n",
       " '_oid',\n",
       " '_path_effects',\n",
       " '_picker',\n",
       " '_prop_order',\n",
       " '_propobservers',\n",
       " '_rasterized',\n",
       " '_remove_method',\n",
       " '_set_artist_props',\n",
       " '_set_gc_clip',\n",
       " '_sketch',\n",
       " '_snap',\n",
       " '_stale',\n",
       " '_sticky_edges',\n",
       " '_tight',\n",
       " '_transform',\n",
       " '_transformSet',\n",
       " '_url',\n",
       " '_visible',\n",
       " 'add_callback',\n",
       " 'aname',\n",
       " 'artists',\n",
       " 'axes',\n",
       " 'bbox',\n",
       " 'callbacks',\n",
       " 'clear',\n",
       " 'clipbox',\n",
       " 'contains',\n",
       " 'convert_xunits',\n",
       " 'convert_yunits',\n",
       " 'draw',\n",
       " 'draw_artist',\n",
       " 'eventson',\n",
       " 'figure',\n",
       " 'findobj',\n",
       " 'format_cursor_data',\n",
       " 'get_agg_filter',\n",
       " 'get_alpha',\n",
       " 'get_animated',\n",
       " 'get_children',\n",
       " 'get_clip_box',\n",
       " 'get_clip_on',\n",
       " 'get_clip_path',\n",
       " 'get_contains',\n",
       " 'get_cursor_data',\n",
       " 'get_default_bbox_extra_artists',\n",
       " 'get_facecolor',\n",
       " 'get_figure',\n",
       " 'get_gid',\n",
       " 'get_label',\n",
       " 'get_path_effects',\n",
       " 'get_picker',\n",
       " 'get_rasterized',\n",
       " 'get_sketch_params',\n",
       " 'get_snap',\n",
       " 'get_tightbbox',\n",
       " 'get_transform',\n",
       " 'get_transformed_clip_path_and_affine',\n",
       " 'get_url',\n",
       " 'get_visible',\n",
       " 'get_window_extent',\n",
       " 'get_zorder',\n",
       " 'have_units',\n",
       " 'hitlist',\n",
       " 'hold',\n",
       " 'images',\n",
       " 'is_figure_set',\n",
       " 'is_transform_set',\n",
       " 'legend',\n",
       " 'lines',\n",
       " 'mouseover',\n",
       " 'patch',\n",
       " 'patches',\n",
       " 'pchanged',\n",
       " 'pick',\n",
       " 'pickable',\n",
       " 'properties',\n",
       " 'remove',\n",
       " 'remove_callback',\n",
       " 'set',\n",
       " 'set_agg_filter',\n",
       " 'set_alpha',\n",
       " 'set_animated',\n",
       " 'set_clip_box',\n",
       " 'set_clip_on',\n",
       " 'set_clip_path',\n",
       " 'set_contains',\n",
       " 'set_facecolor',\n",
       " 'set_figure',\n",
       " 'set_gid',\n",
       " 'set_label',\n",
       " 'set_path_effects',\n",
       " 'set_picker',\n",
       " 'set_rasterized',\n",
       " 'set_sketch_params',\n",
       " 'set_snap',\n",
       " 'set_transform',\n",
       " 'set_url',\n",
       " 'set_visible',\n",
       " 'set_zorder',\n",
       " 'stale',\n",
       " 'stale_callback',\n",
       " 'sticky_edges',\n",
       " 'text',\n",
       " 'texts',\n",
       " 'update',\n",
       " 'update_from',\n",
       " 'zorder'}"
      ]
     },
     "execution_count": 17,
     "metadata": {},
     "output_type": "execute_result"
    }
   ],
   "source": [
    "sa & sb"
   ]
  },
  {
   "cell_type": "code",
   "execution_count": 18,
   "metadata": {},
   "outputs": [
    {
     "data": {
      "text/plain": [
       "{'_Figure__remove_ax',\n",
       " '_axobservers',\n",
       " '_axstack',\n",
       " '_dpi',\n",
       " '_get_axes',\n",
       " '_get_dpi',\n",
       " '_make_key',\n",
       " '_repr_html_',\n",
       " '_set_dpi',\n",
       " '_suptitle',\n",
       " '_tight_parameters',\n",
       " 'add_axes',\n",
       " 'add_axobserver',\n",
       " 'add_subplot',\n",
       " 'autofmt_xdate',\n",
       " 'bbox_inches',\n",
       " 'canvas',\n",
       " 'clf',\n",
       " 'colorbar',\n",
       " 'delaxes',\n",
       " 'dpi',\n",
       " 'dpi_scale_trans',\n",
       " 'figimage',\n",
       " 'figurePatch',\n",
       " 'frameon',\n",
       " 'gca',\n",
       " 'get_axes',\n",
       " 'get_dpi',\n",
       " 'get_edgecolor',\n",
       " 'get_figheight',\n",
       " 'get_figwidth',\n",
       " 'get_frameon',\n",
       " 'get_size_inches',\n",
       " 'get_tight_layout',\n",
       " 'ginput',\n",
       " 'legends',\n",
       " 'number',\n",
       " 'savefig',\n",
       " 'sca',\n",
       " 'set_canvas',\n",
       " 'set_dpi',\n",
       " 'set_edgecolor',\n",
       " 'set_figheight',\n",
       " 'set_figwidth',\n",
       " 'set_frameon',\n",
       " 'set_size_inches',\n",
       " 'set_tight_layout',\n",
       " 'show',\n",
       " 'subplotpars',\n",
       " 'subplots',\n",
       " 'subplots_adjust',\n",
       " 'suppressComposite',\n",
       " 'suptitle',\n",
       " 'tight_layout',\n",
       " 'transFigure',\n",
       " 'waitforbuttonpress'}"
      ]
     },
     "execution_count": 18,
     "metadata": {},
     "output_type": "execute_result"
    }
   ],
   "source": [
    "sa - sb"
   ]
  },
  {
   "cell_type": "code",
   "execution_count": 34,
   "metadata": {},
   "outputs": [
    {
     "data": {
      "text/plain": [
       "{'_add_text',\n",
       " '_adjustable',\n",
       " '_anchor',\n",
       " '_aspect',\n",
       " '_autoscaleXon',\n",
       " '_autoscaleYon',\n",
       " '_axes',\n",
       " '_axes_class',\n",
       " '_axes_locator',\n",
       " '_axisbelow',\n",
       " '_connected',\n",
       " '_current_image',\n",
       " '_facecolor',\n",
       " '_frameon',\n",
       " '_gen_axes_patch',\n",
       " '_gen_axes_spines',\n",
       " '_get_axis_list',\n",
       " '_get_legend_handles',\n",
       " '_get_lines',\n",
       " '_get_patches_for_fill',\n",
       " '_get_view',\n",
       " '_gridOn',\n",
       " '_init_axis',\n",
       " '_left_title',\n",
       " '_make_twin_axes',\n",
       " '_navigate',\n",
       " '_navigate_mode',\n",
       " '_on_units_changed',\n",
       " '_originalPosition',\n",
       " '_pcolorargs',\n",
       " '_position',\n",
       " '_process_unit_info',\n",
       " '_quiver_units',\n",
       " '_rasterization_zorder',\n",
       " '_right_title',\n",
       " '_sci',\n",
       " '_set_lim_and_transforms',\n",
       " '_set_view',\n",
       " '_set_view_from_bbox',\n",
       " '_shared_x_axes',\n",
       " '_shared_y_axes',\n",
       " '_sharex',\n",
       " '_sharey',\n",
       " '_subplotspec',\n",
       " '_update_line_limits',\n",
       " '_update_patch_limits',\n",
       " '_update_transScale',\n",
       " '_use_sticky_edges',\n",
       " '_validate_converted_limits',\n",
       " '_xaxis_transform',\n",
       " '_xcid',\n",
       " '_xmargin',\n",
       " '_yaxis_transform',\n",
       " '_ycid',\n",
       " '_ymargin',\n",
       " 'acorr',\n",
       " 'add_artist',\n",
       " 'add_collection',\n",
       " 'add_container',\n",
       " 'add_image',\n",
       " 'add_line',\n",
       " 'add_patch',\n",
       " 'add_table',\n",
       " 'angle_spectrum',\n",
       " 'annotate',\n",
       " 'apply_aspect',\n",
       " 'arrow',\n",
       " 'autoscale',\n",
       " 'autoscale_view',\n",
       " 'axesPatch',\n",
       " 'axhline',\n",
       " 'axhspan',\n",
       " 'axis',\n",
       " 'axison',\n",
       " 'axvline',\n",
       " 'axvspan',\n",
       " 'bar',\n",
       " 'barbs',\n",
       " 'barh',\n",
       " 'boxplot',\n",
       " 'broken_barh',\n",
       " 'bxp',\n",
       " 'can_pan',\n",
       " 'can_zoom',\n",
       " 'change_geometry',\n",
       " 'cla',\n",
       " 'clabel',\n",
       " 'cohere',\n",
       " 'colNum',\n",
       " 'collections',\n",
       " 'containers',\n",
       " 'contains_point',\n",
       " 'contour',\n",
       " 'contourf',\n",
       " 'csd',\n",
       " 'dataLim',\n",
       " 'drag_pan',\n",
       " 'end_pan',\n",
       " 'errorbar',\n",
       " 'eventplot',\n",
       " 'figbox',\n",
       " 'fill',\n",
       " 'fill_between',\n",
       " 'fill_betweenx',\n",
       " 'fmt_xdata',\n",
       " 'fmt_ydata',\n",
       " 'format_coord',\n",
       " 'format_xdata',\n",
       " 'format_ydata',\n",
       " 'get_adjustable',\n",
       " 'get_anchor',\n",
       " 'get_aspect',\n",
       " 'get_autoscale_on',\n",
       " 'get_autoscalex_on',\n",
       " 'get_autoscaley_on',\n",
       " 'get_axes_locator',\n",
       " 'get_axis_bgcolor',\n",
       " 'get_axisbelow',\n",
       " 'get_cursor_props',\n",
       " 'get_data_ratio',\n",
       " 'get_data_ratio_log',\n",
       " 'get_fc',\n",
       " 'get_frame_on',\n",
       " 'get_geometry',\n",
       " 'get_images',\n",
       " 'get_legend',\n",
       " 'get_legend_handles_labels',\n",
       " 'get_lines',\n",
       " 'get_navigate',\n",
       " 'get_navigate_mode',\n",
       " 'get_position',\n",
       " 'get_rasterization_zorder',\n",
       " 'get_renderer_cache',\n",
       " 'get_shared_x_axes',\n",
       " 'get_shared_y_axes',\n",
       " 'get_subplotspec',\n",
       " 'get_title',\n",
       " 'get_xaxis',\n",
       " 'get_xaxis_text1_transform',\n",
       " 'get_xaxis_text2_transform',\n",
       " 'get_xaxis_transform',\n",
       " 'get_xbound',\n",
       " 'get_xgridlines',\n",
       " 'get_xlabel',\n",
       " 'get_xlim',\n",
       " 'get_xmajorticklabels',\n",
       " 'get_xminorticklabels',\n",
       " 'get_xscale',\n",
       " 'get_xticklabels',\n",
       " 'get_xticklines',\n",
       " 'get_xticks',\n",
       " 'get_yaxis',\n",
       " 'get_yaxis_text1_transform',\n",
       " 'get_yaxis_text2_transform',\n",
       " 'get_yaxis_transform',\n",
       " 'get_ybound',\n",
       " 'get_ygridlines',\n",
       " 'get_ylabel',\n",
       " 'get_ylim',\n",
       " 'get_ymajorticklabels',\n",
       " 'get_yminorticklabels',\n",
       " 'get_yscale',\n",
       " 'get_yticklabels',\n",
       " 'get_yticklines',\n",
       " 'get_yticks',\n",
       " 'grid',\n",
       " 'has_data',\n",
       " 'hexbin',\n",
       " 'hist',\n",
       " 'hist2d',\n",
       " 'hlines',\n",
       " 'ignore_existing_data_limits',\n",
       " 'imshow',\n",
       " 'in_axes',\n",
       " 'invert_xaxis',\n",
       " 'invert_yaxis',\n",
       " 'is_first_col',\n",
       " 'is_first_row',\n",
       " 'is_last_col',\n",
       " 'is_last_row',\n",
       " 'ishold',\n",
       " 'label_outer',\n",
       " 'legend_',\n",
       " 'locator_params',\n",
       " 'loglog',\n",
       " 'magnitude_spectrum',\n",
       " 'margins',\n",
       " 'matshow',\n",
       " 'minorticks_off',\n",
       " 'minorticks_on',\n",
       " 'mouseover_set',\n",
       " 'name',\n",
       " 'numCols',\n",
       " 'numRows',\n",
       " 'pcolor',\n",
       " 'pcolorfast',\n",
       " 'pcolormesh',\n",
       " 'phase_spectrum',\n",
       " 'pie',\n",
       " 'plot',\n",
       " 'plot_date',\n",
       " 'psd',\n",
       " 'quiver',\n",
       " 'quiverkey',\n",
       " 'redraw_in_frame',\n",
       " 'relim',\n",
       " 'reset_position',\n",
       " 'rowNum',\n",
       " 'scatter',\n",
       " 'semilogx',\n",
       " 'semilogy',\n",
       " 'set_adjustable',\n",
       " 'set_anchor',\n",
       " 'set_aspect',\n",
       " 'set_autoscale_on',\n",
       " 'set_autoscalex_on',\n",
       " 'set_autoscaley_on',\n",
       " 'set_axes_locator',\n",
       " 'set_axis_bgcolor',\n",
       " 'set_axis_off',\n",
       " 'set_axis_on',\n",
       " 'set_axisbelow',\n",
       " 'set_color_cycle',\n",
       " 'set_cursor_props',\n",
       " 'set_fc',\n",
       " 'set_frame_on',\n",
       " 'set_navigate',\n",
       " 'set_navigate_mode',\n",
       " 'set_position',\n",
       " 'set_prop_cycle',\n",
       " 'set_rasterization_zorder',\n",
       " 'set_subplotspec',\n",
       " 'set_title',\n",
       " 'set_xbound',\n",
       " 'set_xlabel',\n",
       " 'set_xlim',\n",
       " 'set_xmargin',\n",
       " 'set_xscale',\n",
       " 'set_xticklabels',\n",
       " 'set_xticks',\n",
       " 'set_ybound',\n",
       " 'set_ylabel',\n",
       " 'set_ylim',\n",
       " 'set_ymargin',\n",
       " 'set_yscale',\n",
       " 'set_yticklabels',\n",
       " 'set_yticks',\n",
       " 'specgram',\n",
       " 'spines',\n",
       " 'spy',\n",
       " 'stackplot',\n",
       " 'start_pan',\n",
       " 'stem',\n",
       " 'step',\n",
       " 'streamplot',\n",
       " 'table',\n",
       " 'tables',\n",
       " 'tick_params',\n",
       " 'ticklabel_format',\n",
       " 'title',\n",
       " 'titleOffsetTrans',\n",
       " 'transAxes',\n",
       " 'transData',\n",
       " 'transLimits',\n",
       " 'transScale',\n",
       " 'tricontour',\n",
       " 'tricontourf',\n",
       " 'tripcolor',\n",
       " 'triplot',\n",
       " 'twinx',\n",
       " 'twiny',\n",
       " 'update_datalim',\n",
       " 'update_datalim_bounds',\n",
       " 'update_datalim_numerix',\n",
       " 'update_params',\n",
       " 'use_sticky_edges',\n",
       " 'viewLim',\n",
       " 'violin',\n",
       " 'violinplot',\n",
       " 'vlines',\n",
       " 'xaxis',\n",
       " 'xaxis_date',\n",
       " 'xaxis_inverted',\n",
       " 'xcorr',\n",
       " 'yaxis',\n",
       " 'yaxis_date',\n",
       " 'yaxis_inverted'}"
      ]
     },
     "execution_count": 34,
     "metadata": {},
     "output_type": "execute_result"
    }
   ],
   "source": [
    "sb - sa"
   ]
  },
  {
   "cell_type": "markdown",
   "metadata": {},
   "source": [
    "## add_axes의 호출 \n",
    "\n",
    "    서명은 add_axes (rect)입니다. \n",
    "    rect는 그림 좌표 (x0, y0)의 새 축의 왼쪽 하단 점과 폭과 높이를 나타내는 [x0, y0, width, height] 목록입니다. \n",
    "    따라서 축은 캔버스의 절대 좌표로 위치합니다. "
   ]
  },
  {
   "cell_type": "markdown",
   "metadata": {},
   "source": [
    "### axes는 실제 절대좌표를 통해 그려진다."
   ]
  },
  {
   "cell_type": "code",
   "execution_count": 19,
   "metadata": {},
   "outputs": [
    {
     "name": "stdout",
     "output_type": "stream",
     "text": [
      "Axes(0,0;1x1)\n",
      "Axes(0.5,0.5;1x1)\n"
     ]
    },
    {
     "data": {
      "image/png": "[encoded data removed]",
      "text/plain": [
       "<matplotlib.figure.Figure at 0x10583e748>"
      ]
     },
     "metadata": {},
     "output_type": "display_data"
    }
   ],
   "source": [
    "fig = plt.figure()\n",
    "\n",
    "x1 = np.linspace(0.0, 5.0)\n",
    "x2 = np.linspace(0.0, 2.0)\n",
    "y1 = np.cos(2 * np.pi * x1) * np.exp(-x1)\n",
    "y2 = np.cos(2 * np.pi * x2)\n",
    "\n",
    "ax1 = fig.add_axes([0,0,1,1])\n",
    "plt.plot(x1, y1, 'yo-')\n",
    "plt.title('A tale of 2 subplots')\n",
    "plt.ylabel('Damped oscillation')\n",
    "print(ax1)\n",
    "\n",
    "ax2 = fig.add_axes([0.5,0.5,1,1])\n",
    "plt.plot(x2, y2, 'r.-')\n",
    "plt.xlabel('time (s)')\n",
    "plt.ylabel('Undamped')\n",
    "print(ax2)\n",
    "\n",
    "plt.show()"
   ]
  },
  {
   "cell_type": "markdown",
   "metadata": {},
   "source": [
    "## 새로운 피겨에 axes 추가"
   ]
  },
  {
   "cell_type": "code",
   "execution_count": 20,
   "metadata": {},
   "outputs": [
    {
     "data": {
      "image/png": "[encoded data removed]",
      "text/plain": [
       "<matplotlib.figure.Figure at 0x10592d4a8>"
      ]
     },
     "metadata": {},
     "output_type": "display_data"
    }
   ],
   "source": [
    "fig = plt.figure()\n",
    "ax = fig.add_axes([0,0,1,1])"
   ]
  },
  {
   "cell_type": "code",
   "execution_count": 21,
   "metadata": {},
   "outputs": [
    {
     "data": {
      "text/plain": [
       "<matplotlib.axes._axes.Axes at 0x10592dac8>"
      ]
     },
     "execution_count": 21,
     "metadata": {},
     "output_type": "execute_result"
    }
   ],
   "source": [
    "ax"
   ]
  },
  {
   "cell_type": "markdown",
   "metadata": {},
   "source": [
    "### axes는 좌표로 그래프를 그린다. "
   ]
  },
  {
   "cell_type": "code",
   "execution_count": 22,
   "metadata": {},
   "outputs": [
    {
     "data": {
      "image/png": "[encoded data removed]",
      "text/plain": [
       "<matplotlib.figure.Figure at 0x105a566a0>"
      ]
     },
     "metadata": {},
     "output_type": "display_data"
    }
   ],
   "source": [
    "fig = plt.figure()\n",
    "fig.add_axes([0.77,.3,.2,.6])\n",
    "ax2 =fig.add_axes([0.67,.5,.2,.3])\n",
    "fig.add_axes([0.6,.1,.35,.3])\n",
    "ax2.set_title(\"random axes\")\n",
    "\n",
    "plt.show()"
   ]
  },
  {
   "cell_type": "markdown",
   "metadata": {},
   "source": [
    "## add_subplot\n",
    "\n",
    "    add_subplot의 호출 시그니처는 축을 미리 정의 된 위치에 배치하는 옵션을 직접 제공하지 않습니다. \n",
    "    오히려 서브 Plot 그리드에 따라 축을 배치 할 위치를 지정할 수 있습니다. \n",
    "    이 위치를 지정하는 일반적으로 가장 쉬운 방법은 3 정수 표기법입니다.\n",
    "    \n",
    "    "
   ]
  },
  {
   "cell_type": "code",
   "execution_count": 23,
   "metadata": {},
   "outputs": [
    {
     "data": {
      "image/png": "[encoded data removed]",
      "text/plain": [
       "<matplotlib.figure.Figure at 0x105964ef0>"
      ]
     },
     "metadata": {},
     "output_type": "display_data"
    }
   ],
   "source": [
    "fig = plt.figure()\n",
    "ax = fig.add_subplot(231)"
   ]
  },
  {
   "cell_type": "code",
   "execution_count": 24,
   "metadata": {},
   "outputs": [
    {
     "data": {
      "text/plain": [
       "<matplotlib.axes._subplots.AxesSubplot at 0x105cf1470>"
      ]
     },
     "execution_count": 24,
     "metadata": {},
     "output_type": "execute_result"
    }
   ],
   "source": [
    "ax"
   ]
  },
  {
   "cell_type": "code",
   "execution_count": 25,
   "metadata": {},
   "outputs": [
    {
     "data": {
      "image/png": "[encoded data removed]",
      "text/plain": [
       "<matplotlib.figure.Figure at 0x105cf1c50>"
      ]
     },
     "metadata": {},
     "output_type": "display_data"
    }
   ],
   "source": [
    "\n",
    "\n",
    "fig = plt.figure()\n",
    "fig.add_subplot(241)\n",
    "fig.add_subplot(242)\n",
    "ax = fig.add_subplot(223)\n",
    "ax.set_title(\"subplots\")\n",
    "\n",
    "\n",
    "plt.tight_layout()\n",
    "plt.show()"
   ]
  },
  {
   "cell_type": "markdown",
   "metadata": {},
   "source": [
    "## 2행 2열로 서브플랏을 처리"
   ]
  },
  {
   "cell_type": "code",
   "execution_count": 26,
   "metadata": {
    "collapsed": true
   },
   "outputs": [],
   "source": [
    "import numpy as np"
   ]
  },
  {
   "cell_type": "code",
   "execution_count": 27,
   "metadata": {},
   "outputs": [
    {
     "data": {
      "image/png": "[encoded data removed]",
      "text/plain": [
       "<matplotlib.figure.Figure at 0x1057584e0>"
      ]
     },
     "metadata": {},
     "output_type": "display_data"
    }
   ],
   "source": [
    "x1 = np.random.rand(10)\n",
    "x2 = np.random.rand(10)\n",
    "x3 = np.random.rand(10)\n",
    "x4 = np.random.rand(10)\n",
    "y1 = np.random.rand(10)\n",
    "y2 = np.random.rand(10)\n",
    "y3 = np.random.rand(10)\n",
    "y4 = np.random.rand(10)\n",
    "\n",
    "figure2, ((ax1, ax2), (ax3, ax4)) = plt.subplots(2, 2)\n",
    "ax1.plot(x1,y1)\n",
    "ax2.plot(x2,y2)\n",
    "ax3.plot(x3,y3)\n",
    "ax4.plot(x4,y4)\n",
    "\n",
    "plt.show()"
   ]
  },
  {
   "cell_type": "code",
   "execution_count": 28,
   "metadata": {},
   "outputs": [
    {
     "data": {
      "text/plain": [
       "<matplotlib.axes._subplots.AxesSubplot at 0x105e35470>"
      ]
     },
     "execution_count": 28,
     "metadata": {},
     "output_type": "execute_result"
    }
   ],
   "source": [
    "ax1"
   ]
  },
  {
   "cell_type": "markdown",
   "metadata": {},
   "source": [
    "### 키워드를 이용해서 그래프를 만들기"
   ]
  },
  {
   "cell_type": "code",
   "execution_count": 29,
   "metadata": {},
   "outputs": [
    {
     "data": {
      "image/png": "[encoded data removed]",
      "text/plain": [
       "<matplotlib.figure.Figure at 0x1057aa2b0>"
      ]
     },
     "metadata": {},
     "output_type": "display_data"
    }
   ],
   "source": [
    "figure3, ((ax1, ax2), (ax3, ax4)) = plt.subplots(nrows=2, ncols=2)\n",
    "ax1.plot(x1,y1)\n",
    "ax2.plot(x2,y2)\n",
    "ax3.plot(x3,y3)\n",
    "ax4.plot(x4,y4)\n",
    "\n",
    "plt.show()"
   ]
  },
  {
   "cell_type": "markdown",
   "metadata": {},
   "source": [
    "## figure를 만들고 AxesSubplot 객체를 만들어서 이 객체 내의 메소드를 이용해서 그래프 그리기"
   ]
  },
  {
   "cell_type": "code",
   "execution_count": 30,
   "metadata": {},
   "outputs": [
    {
     "data": {
      "image/png": "[encoded data removed]",
      "text/plain": [
       "<matplotlib.figure.Figure at 0x1063ad048>"
      ]
     },
     "metadata": {},
     "output_type": "display_data"
    }
   ],
   "source": [
    "import matplotlib.pyplot as plt\n",
    "import numpy as np\n",
    "\n",
    "\n",
    "# Learn about API authentication here: https://plot.ly/python/getting-started\n",
    "# Find your api_key here: https://plot.ly/settings/api\n",
    "\n",
    "\n",
    "mpl_fig = plt.figure()\n",
    "ax = mpl_fig.add_subplot(111)\n",
    "\n",
    "x=[0, 1, 2, 3, 4, 5, 6, 7, 8]\n",
    "y=[0, 4, 5, 1, 8, 5, 3, 2, 9]\n",
    "\n",
    "line, = ax.plot(x, y, lw=2)\n",
    "\n",
    "ax.set_title(\"My Plot Title\")\n",
    "ax.set_xlabel(\"This is the X Axis\")\n",
    "ax.set_ylabel(\"This is the Y Axis\")\n",
    "plt.show()"
   ]
  },
  {
   "cell_type": "code",
   "execution_count": 31,
   "metadata": {},
   "outputs": [
    {
     "data": {
      "text/plain": [
       "<matplotlib.axes._subplots.AxesSubplot at 0x106377a58>"
      ]
     },
     "execution_count": 31,
     "metadata": {},
     "output_type": "execute_result"
    }
   ],
   "source": [
    "ax"
   ]
  },
  {
   "cell_type": "markdown",
   "metadata": {},
   "source": [
    "## figure를 만들고 Axes 객체를 만들어서 이 객체 내의 메소드를 이용해서 그래프 그리기"
   ]
  },
  {
   "cell_type": "code",
   "execution_count": 32,
   "metadata": {},
   "outputs": [
    {
     "data": {
      "image/png": "[encoded data removed]",
      "text/plain": [
       "<matplotlib.figure.Figure at 0x10648ac50>"
      ]
     },
     "metadata": {},
     "output_type": "display_data"
    }
   ],
   "source": [
    "import matplotlib.pyplot as plt\n",
    "import numpy as np\n",
    "\n",
    "\n",
    "# Learn about API authentication here: https://plot.ly/python/getting-started\n",
    "# Find your api_key here: https://plot.ly/settings/api\n",
    "\n",
    "\n",
    "mpl_fig = plt.figure()\n",
    "mpl_fig.add_axes([0,0,1,1])\n",
    "\n",
    "x=[0, 1, 2, 3, 4, 5, 6, 7, 8]\n",
    "y=[0, 4, 5, 1, 8, 5, 3, 2, 9]\n",
    "\n",
    "\n",
    "\n",
    "plt.plot(x, y, lw=2)\n",
    "\n",
    "plt.title(\"My Plot Title\")\n",
    "plt.xlabel(\"This is the X Axis\")\n",
    "plt.ylabel(\"This is the Y Axis\")\n",
    "plt.show()"
   ]
  },
  {
   "cell_type": "code",
   "execution_count": 33,
   "metadata": {},
   "outputs": [
    {
     "data": {
      "image/png": "[encoded data removed]",
      "text/plain": [
       "<matplotlib.figure.Figure at 0x10648ac50>"
      ]
     },
     "execution_count": 33,
     "metadata": {},
     "output_type": "execute_result"
    }
   ],
   "source": [
    "mpl_fig"
   ]
  },
  {
   "cell_type": "markdown",
   "metadata": {},
   "source": [
    "## 두개의 선 그래프를 그린다."
   ]
  },
  {
   "cell_type": "code",
   "execution_count": 38,
   "metadata": {},
   "outputs": [
    {
     "data": {
      "image/png": "[encoded data removed]",
      "text/plain": [
       "<matplotlib.figure.Figure at 0x10593dd30>"
      ]
     },
     "metadata": {},
     "output_type": "display_data"
    }
   ],
   "source": [
    "X = np.linspace(-np.pi, np.pi, 256, endpoint=True)\n",
    "C,S = np.cos(X), np.sin(X)\n",
    "\n",
    "plt.plot(X,C)\n",
    "plt.plot(X,S)\n",
    "a = plt.gcf()\n",
    "\n",
    "plt.show()\n"
   ]
  },
  {
   "cell_type": "code",
   "execution_count": 39,
   "metadata": {},
   "outputs": [
    {
     "data": {
      "text/plain": [
       "[<matplotlib.axes._subplots.AxesSubplot at 0x1057f4588>]"
      ]
     },
     "execution_count": 39,
     "metadata": {},
     "output_type": "execute_result"
    }
   ],
   "source": [
    "a.axes"
   ]
  },
  {
   "cell_type": "code",
   "execution_count": 40,
   "metadata": {},
   "outputs": [
    {
     "data": {
      "text/plain": [
       "<matplotlib.axes._subplots.AxesSubplot at 0x1057f4588>"
      ]
     },
     "execution_count": 40,
     "metadata": {},
     "output_type": "execute_result"
    }
   ],
   "source": [
    "a.axes[0]"
   ]
  },
  {
   "cell_type": "code",
   "execution_count": 42,
   "metadata": {},
   "outputs": [
    {
     "data": {
      "text/plain": [
       "(-3.4557519189487724,\n",
       " 3.4557519189487724,\n",
       " -1.0999990513674363,\n",
       " 1.0999800787161631)"
      ]
     },
     "execution_count": 42,
     "metadata": {},
     "output_type": "execute_result"
    }
   ],
   "source": [
    "a.axes[0].axis()"
   ]
  },
  {
   "cell_type": "code",
   "execution_count": 45,
   "metadata": {},
   "outputs": [
    {
     "data": {
      "text/plain": [
       "<matplotlib.axes._subplots.AxesSubplot at 0x1057f4588>"
      ]
     },
     "execution_count": 45,
     "metadata": {},
     "output_type": "execute_result"
    }
   ],
   "source": [
    "a.axes[0].axes"
   ]
  },
  {
   "cell_type": "code",
   "execution_count": 44,
   "metadata": {},
   "outputs": [
    {
     "data": {
      "text/plain": [
       "['__class__',\n",
       " '__delattr__',\n",
       " '__dict__',\n",
       " '__dir__',\n",
       " '__doc__',\n",
       " '__eq__',\n",
       " '__format__',\n",
       " '__ge__',\n",
       " '__getattribute__',\n",
       " '__getstate__',\n",
       " '__gt__',\n",
       " '__hash__',\n",
       " '__init__',\n",
       " '__init_subclass__',\n",
       " '__le__',\n",
       " '__lt__',\n",
       " '__module__',\n",
       " '__ne__',\n",
       " '__new__',\n",
       " '__reduce__',\n",
       " '__reduce_ex__',\n",
       " '__repr__',\n",
       " '__setattr__',\n",
       " '__setstate__',\n",
       " '__sizeof__',\n",
       " '__str__',\n",
       " '__subclasshook__',\n",
       " '__weakref__',\n",
       " '_add_text',\n",
       " '_adjustable',\n",
       " '_agg_filter',\n",
       " '_alpha',\n",
       " '_anchor',\n",
       " '_animated',\n",
       " '_aspect',\n",
       " '_autoscaleXon',\n",
       " '_autoscaleYon',\n",
       " '_axes',\n",
       " '_axes_class',\n",
       " '_axes_locator',\n",
       " '_axisbelow',\n",
       " '_cachedRenderer',\n",
       " '_clipon',\n",
       " '_clippath',\n",
       " '_connected',\n",
       " '_contains',\n",
       " '_current_image',\n",
       " '_facecolor',\n",
       " '_frameon',\n",
       " '_gci',\n",
       " '_gen_axes_patch',\n",
       " '_gen_axes_spines',\n",
       " '_get_axis_list',\n",
       " '_get_legend_handles',\n",
       " '_get_lines',\n",
       " '_get_patches_for_fill',\n",
       " '_get_view',\n",
       " '_gid',\n",
       " '_gridOn',\n",
       " '_hold',\n",
       " '_init_axis',\n",
       " '_label',\n",
       " '_left_title',\n",
       " '_make_twin_axes',\n",
       " '_mouseover',\n",
       " '_navigate',\n",
       " '_navigate_mode',\n",
       " '_oid',\n",
       " '_on_units_changed',\n",
       " '_originalPosition',\n",
       " '_path_effects',\n",
       " '_pcolorargs',\n",
       " '_picker',\n",
       " '_position',\n",
       " '_process_unit_info',\n",
       " '_prop_order',\n",
       " '_propobservers',\n",
       " '_quiver_units',\n",
       " '_rasterization_zorder',\n",
       " '_rasterized',\n",
       " '_remove_method',\n",
       " '_right_title',\n",
       " '_sci',\n",
       " '_set_artist_props',\n",
       " '_set_gc_clip',\n",
       " '_set_lim_and_transforms',\n",
       " '_set_view',\n",
       " '_set_view_from_bbox',\n",
       " '_shared_x_axes',\n",
       " '_shared_y_axes',\n",
       " '_sharex',\n",
       " '_sharey',\n",
       " '_sketch',\n",
       " '_snap',\n",
       " '_stale',\n",
       " '_sticky_edges',\n",
       " '_subplotspec',\n",
       " '_tight',\n",
       " '_transform',\n",
       " '_transformSet',\n",
       " '_update_line_limits',\n",
       " '_update_patch_limits',\n",
       " '_update_transScale',\n",
       " '_url',\n",
       " '_use_sticky_edges',\n",
       " '_validate_converted_limits',\n",
       " '_visible',\n",
       " '_xaxis_transform',\n",
       " '_xcid',\n",
       " '_xmargin',\n",
       " '_yaxis_transform',\n",
       " '_ycid',\n",
       " '_ymargin',\n",
       " 'acorr',\n",
       " 'add_artist',\n",
       " 'add_callback',\n",
       " 'add_collection',\n",
       " 'add_container',\n",
       " 'add_image',\n",
       " 'add_line',\n",
       " 'add_patch',\n",
       " 'add_table',\n",
       " 'aname',\n",
       " 'angle_spectrum',\n",
       " 'annotate',\n",
       " 'apply_aspect',\n",
       " 'arrow',\n",
       " 'artists',\n",
       " 'autoscale',\n",
       " 'autoscale_view',\n",
       " 'axes',\n",
       " 'axesPatch',\n",
       " 'axhline',\n",
       " 'axhspan',\n",
       " 'axis',\n",
       " 'axison',\n",
       " 'axvline',\n",
       " 'axvspan',\n",
       " 'bar',\n",
       " 'barbs',\n",
       " 'barh',\n",
       " 'bbox',\n",
       " 'boxplot',\n",
       " 'broken_barh',\n",
       " 'bxp',\n",
       " 'callbacks',\n",
       " 'can_pan',\n",
       " 'can_zoom',\n",
       " 'change_geometry',\n",
       " 'cla',\n",
       " 'clabel',\n",
       " 'clear',\n",
       " 'clipbox',\n",
       " 'cohere',\n",
       " 'colNum',\n",
       " 'collections',\n",
       " 'containers',\n",
       " 'contains',\n",
       " 'contains_point',\n",
       " 'contour',\n",
       " 'contourf',\n",
       " 'convert_xunits',\n",
       " 'convert_yunits',\n",
       " 'csd',\n",
       " 'dataLim',\n",
       " 'drag_pan',\n",
       " 'draw',\n",
       " 'draw_artist',\n",
       " 'end_pan',\n",
       " 'errorbar',\n",
       " 'eventplot',\n",
       " 'eventson',\n",
       " 'figbox',\n",
       " 'figure',\n",
       " 'fill',\n",
       " 'fill_between',\n",
       " 'fill_betweenx',\n",
       " 'findobj',\n",
       " 'fmt_xdata',\n",
       " 'fmt_ydata',\n",
       " 'format_coord',\n",
       " 'format_cursor_data',\n",
       " 'format_xdata',\n",
       " 'format_ydata',\n",
       " 'get_adjustable',\n",
       " 'get_agg_filter',\n",
       " 'get_alpha',\n",
       " 'get_anchor',\n",
       " 'get_animated',\n",
       " 'get_aspect',\n",
       " 'get_autoscale_on',\n",
       " 'get_autoscalex_on',\n",
       " 'get_autoscaley_on',\n",
       " 'get_axes_locator',\n",
       " 'get_axis_bgcolor',\n",
       " 'get_axisbelow',\n",
       " 'get_children',\n",
       " 'get_clip_box',\n",
       " 'get_clip_on',\n",
       " 'get_clip_path',\n",
       " 'get_contains',\n",
       " 'get_cursor_data',\n",
       " 'get_cursor_props',\n",
       " 'get_data_ratio',\n",
       " 'get_data_ratio_log',\n",
       " 'get_default_bbox_extra_artists',\n",
       " 'get_facecolor',\n",
       " 'get_fc',\n",
       " 'get_figure',\n",
       " 'get_frame_on',\n",
       " 'get_geometry',\n",
       " 'get_gid',\n",
       " 'get_images',\n",
       " 'get_label',\n",
       " 'get_legend',\n",
       " 'get_legend_handles_labels',\n",
       " 'get_lines',\n",
       " 'get_navigate',\n",
       " 'get_navigate_mode',\n",
       " 'get_path_effects',\n",
       " 'get_picker',\n",
       " 'get_position',\n",
       " 'get_rasterization_zorder',\n",
       " 'get_rasterized',\n",
       " 'get_renderer_cache',\n",
       " 'get_shared_x_axes',\n",
       " 'get_shared_y_axes',\n",
       " 'get_sketch_params',\n",
       " 'get_snap',\n",
       " 'get_subplotspec',\n",
       " 'get_tightbbox',\n",
       " 'get_title',\n",
       " 'get_transform',\n",
       " 'get_transformed_clip_path_and_affine',\n",
       " 'get_url',\n",
       " 'get_visible',\n",
       " 'get_window_extent',\n",
       " 'get_xaxis',\n",
       " 'get_xaxis_text1_transform',\n",
       " 'get_xaxis_text2_transform',\n",
       " 'get_xaxis_transform',\n",
       " 'get_xbound',\n",
       " 'get_xgridlines',\n",
       " 'get_xlabel',\n",
       " 'get_xlim',\n",
       " 'get_xmajorticklabels',\n",
       " 'get_xminorticklabels',\n",
       " 'get_xscale',\n",
       " 'get_xticklabels',\n",
       " 'get_xticklines',\n",
       " 'get_xticks',\n",
       " 'get_yaxis',\n",
       " 'get_yaxis_text1_transform',\n",
       " 'get_yaxis_text2_transform',\n",
       " 'get_yaxis_transform',\n",
       " 'get_ybound',\n",
       " 'get_ygridlines',\n",
       " 'get_ylabel',\n",
       " 'get_ylim',\n",
       " 'get_ymajorticklabels',\n",
       " 'get_yminorticklabels',\n",
       " 'get_yscale',\n",
       " 'get_yticklabels',\n",
       " 'get_yticklines',\n",
       " 'get_yticks',\n",
       " 'get_zorder',\n",
       " 'grid',\n",
       " 'has_data',\n",
       " 'have_units',\n",
       " 'hexbin',\n",
       " 'hist',\n",
       " 'hist2d',\n",
       " 'hitlist',\n",
       " 'hlines',\n",
       " 'hold',\n",
       " 'ignore_existing_data_limits',\n",
       " 'images',\n",
       " 'imshow',\n",
       " 'in_axes',\n",
       " 'invert_xaxis',\n",
       " 'invert_yaxis',\n",
       " 'is_figure_set',\n",
       " 'is_first_col',\n",
       " 'is_first_row',\n",
       " 'is_last_col',\n",
       " 'is_last_row',\n",
       " 'is_transform_set',\n",
       " 'ishold',\n",
       " 'label_outer',\n",
       " 'legend',\n",
       " 'legend_',\n",
       " 'lines',\n",
       " 'locator_params',\n",
       " 'loglog',\n",
       " 'magnitude_spectrum',\n",
       " 'margins',\n",
       " 'matshow',\n",
       " 'minorticks_off',\n",
       " 'minorticks_on',\n",
       " 'mouseover',\n",
       " 'mouseover_set',\n",
       " 'name',\n",
       " 'numCols',\n",
       " 'numRows',\n",
       " 'patch',\n",
       " 'patches',\n",
       " 'pchanged',\n",
       " 'pcolor',\n",
       " 'pcolorfast',\n",
       " 'pcolormesh',\n",
       " 'phase_spectrum',\n",
       " 'pick',\n",
       " 'pickable',\n",
       " 'pie',\n",
       " 'plot',\n",
       " 'plot_date',\n",
       " 'properties',\n",
       " 'psd',\n",
       " 'quiver',\n",
       " 'quiverkey',\n",
       " 'redraw_in_frame',\n",
       " 'relim',\n",
       " 'remove',\n",
       " 'remove_callback',\n",
       " 'reset_position',\n",
       " 'rowNum',\n",
       " 'scatter',\n",
       " 'semilogx',\n",
       " 'semilogy',\n",
       " 'set',\n",
       " 'set_adjustable',\n",
       " 'set_agg_filter',\n",
       " 'set_alpha',\n",
       " 'set_anchor',\n",
       " 'set_animated',\n",
       " 'set_aspect',\n",
       " 'set_autoscale_on',\n",
       " 'set_autoscalex_on',\n",
       " 'set_autoscaley_on',\n",
       " 'set_axes_locator',\n",
       " 'set_axis_bgcolor',\n",
       " 'set_axis_off',\n",
       " 'set_axis_on',\n",
       " 'set_axisbelow',\n",
       " 'set_clip_box',\n",
       " 'set_clip_on',\n",
       " 'set_clip_path',\n",
       " 'set_color_cycle',\n",
       " 'set_contains',\n",
       " 'set_cursor_props',\n",
       " 'set_facecolor',\n",
       " 'set_fc',\n",
       " 'set_figure',\n",
       " 'set_frame_on',\n",
       " 'set_gid',\n",
       " 'set_label',\n",
       " 'set_navigate',\n",
       " 'set_navigate_mode',\n",
       " 'set_path_effects',\n",
       " 'set_picker',\n",
       " 'set_position',\n",
       " 'set_prop_cycle',\n",
       " 'set_rasterization_zorder',\n",
       " 'set_rasterized',\n",
       " 'set_sketch_params',\n",
       " 'set_snap',\n",
       " 'set_subplotspec',\n",
       " 'set_title',\n",
       " 'set_transform',\n",
       " 'set_url',\n",
       " 'set_visible',\n",
       " 'set_xbound',\n",
       " 'set_xlabel',\n",
       " 'set_xlim',\n",
       " 'set_xmargin',\n",
       " 'set_xscale',\n",
       " 'set_xticklabels',\n",
       " 'set_xticks',\n",
       " 'set_ybound',\n",
       " 'set_ylabel',\n",
       " 'set_ylim',\n",
       " 'set_ymargin',\n",
       " 'set_yscale',\n",
       " 'set_yticklabels',\n",
       " 'set_yticks',\n",
       " 'set_zorder',\n",
       " 'specgram',\n",
       " 'spines',\n",
       " 'spy',\n",
       " 'stackplot',\n",
       " 'stale',\n",
       " 'stale_callback',\n",
       " 'start_pan',\n",
       " 'stem',\n",
       " 'step',\n",
       " 'sticky_edges',\n",
       " 'streamplot',\n",
       " 'table',\n",
       " 'tables',\n",
       " 'text',\n",
       " 'texts',\n",
       " 'tick_params',\n",
       " 'ticklabel_format',\n",
       " 'title',\n",
       " 'titleOffsetTrans',\n",
       " 'transAxes',\n",
       " 'transData',\n",
       " 'transLimits',\n",
       " 'transScale',\n",
       " 'tricontour',\n",
       " 'tricontourf',\n",
       " 'tripcolor',\n",
       " 'triplot',\n",
       " 'twinx',\n",
       " 'twiny',\n",
       " 'update',\n",
       " 'update_datalim',\n",
       " 'update_datalim_bounds',\n",
       " 'update_datalim_numerix',\n",
       " 'update_from',\n",
       " 'update_params',\n",
       " 'use_sticky_edges',\n",
       " 'viewLim',\n",
       " 'violin',\n",
       " 'violinplot',\n",
       " 'vlines',\n",
       " 'xaxis',\n",
       " 'xaxis_date',\n",
       " 'xaxis_inverted',\n",
       " 'xcorr',\n",
       " 'yaxis',\n",
       " 'yaxis_date',\n",
       " 'yaxis_inverted',\n",
       " 'zorder']"
      ]
     },
     "execution_count": 44,
     "metadata": {},
     "output_type": "execute_result"
    }
   ],
   "source": [
    "dir(a.axes[0])"
   ]
  },
  {
   "cell_type": "markdown",
   "metadata": {},
   "source": [
    "### 내부에 구성된 것을 확인"
   ]
  },
  {
   "cell_type": "code",
   "execution_count": 47,
   "metadata": {},
   "outputs": [
    {
     "data": {
      "text/plain": [
       "[<matplotlib.lines.Line2D at 0x1056b0160>,\n",
       " <matplotlib.lines.Line2D at 0x10593dac8>,\n",
       " <matplotlib.spines.Spine at 0x10596f400>,\n",
       " <matplotlib.spines.Spine at 0x10596f278>,\n",
       " <matplotlib.spines.Spine at 0x10596f908>,\n",
       " <matplotlib.spines.Spine at 0x10596f2e8>,\n",
       " <matplotlib.axis.XAxis at 0x10596fb00>,\n",
       " <matplotlib.axis.YAxis at 0x105946f28>,\n",
       " Text(0.5,1,''),\n",
       " Text(0,1,''),\n",
       " Text(1,1,''),\n",
       " <matplotlib.patches.Rectangle at 0x105975dd8>]"
      ]
     },
     "execution_count": 47,
     "metadata": {},
     "output_type": "execute_result"
    }
   ],
   "source": [
    "a.axes[0].get_children()"
   ]
  },
  {
   "cell_type": "code",
   "execution_count": 48,
   "metadata": {},
   "outputs": [
    {
     "data": {
      "text/plain": [
       "<a list of 2 Line2D objects>"
      ]
     },
     "execution_count": 48,
     "metadata": {},
     "output_type": "execute_result"
    }
   ],
   "source": [
    "a.axes[0].get_lines()"
   ]
  },
  {
   "cell_type": "code",
   "execution_count": null,
   "metadata": {
    "collapsed": true
   },
   "outputs": [],
   "source": []
  }
 ],
 "metadata": {
  "kernelspec": {
   "display_name": "Python 3",
   "language": "python",
   "name": "python3"
  },
  "language_info": {
   "codemirror_mode": {
    "name": "ipython",
    "version": 3
   },
   "file_extension": ".py",
   "mimetype": "text/x-python",
   "name": "python",
   "nbconvert_exporter": "python",
   "pygments_lexer": "ipython3",
   "version": "3.6.1"
  }
 },
 "nbformat": 4,
 "nbformat_minor": 2
}
